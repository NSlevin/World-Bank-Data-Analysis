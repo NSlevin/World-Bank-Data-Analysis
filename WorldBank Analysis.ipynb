{
 "cells": [
  {
   "cell_type": "code",
   "execution_count": null,
   "id": "626434f4",
   "metadata": {
    "execution": {
     "iopub.execute_input": "2022-07-29T09:05:33.318323Z",
     "iopub.status.busy": "2022-07-29T09:05:33.317254Z",
     "iopub.status.idle": "2022-07-29T09:05:34.583179Z",
     "shell.execute_reply": "2022-07-29T09:05:34.581727Z"
    },
    "papermill": {
     "duration": 1.294325,
     "end_time": "2022-07-29T09:05:34.586082",
     "exception": false,
     "start_time": "2022-07-29T09:05:33.291757",
     "status": "completed"
    },
    "slideshow": {
     "slide_type": "skip"
    },
    "tags": []
   },
   "outputs": [],
   "source": [
    "import pandas as pd\n",
    "import glob\n",
    "import csv\n",
    "import os\n",
    "import seaborn as sns\n",
    "import matplotlib.pyplot as plt\n",
    "import warnings\n",
    "warnings.filterwarnings('ignore')"
   ]
  },
  {
   "cell_type": "code",
   "execution_count": null,
   "id": "3d6c38db",
   "metadata": {},
   "outputs": [],
   "source": [
    "##First Indicator"
   ]
  },
  {
   "cell_type": "code",
   "execution_count": 3,
   "id": "aaf7ec16",
   "metadata": {
    "execution": {
     "iopub.execute_input": "2022-07-29T09:05:34.890097Z",
     "iopub.status.busy": "2022-07-29T09:05:34.889710Z",
     "iopub.status.idle": "2022-07-29T09:05:34.933754Z",
     "shell.execute_reply": "2022-07-29T09:05:34.932391Z"
    },
    "papermill": {
     "duration": 0.072934,
     "end_time": "2022-07-29T09:05:34.936971",
     "exception": false,
     "start_time": "2022-07-29T09:05:34.864037",
     "status": "completed"
    },
    "slideshow": {
     "slide_type": "subslide"
    },
    "tags": []
   },
   "outputs": [
    {
     "name": "stdout",
     "output_type": "stream",
     "text": [
      "(2930, 6)\n"
     ]
    },
    {
     "data": {
      "text/html": [
       "<div>\n",
       "<style scoped>\n",
       "    .dataframe tbody tr th:only-of-type {\n",
       "        vertical-align: middle;\n",
       "    }\n",
       "\n",
       "    .dataframe tbody tr th {\n",
       "        vertical-align: top;\n",
       "    }\n",
       "\n",
       "    .dataframe thead th {\n",
       "        text-align: right;\n",
       "    }\n",
       "</style>\n",
       "<table border=\"1\" class=\"dataframe\">\n",
       "  <thead>\n",
       "    <tr style=\"text-align: right;\">\n",
       "      <th></th>\n",
       "      <th>Entity</th>\n",
       "      <th>Code</th>\n",
       "      <th>Year</th>\n",
       "      <th>Government Expenditure (IMF based on Mauro et al. (2015))</th>\n",
       "      <th>GDP per capita, PPP (constant 2017 international $)</th>\n",
       "      <th>Population (historical estimates)</th>\n",
       "    </tr>\n",
       "  </thead>\n",
       "  <tbody>\n",
       "    <tr>\n",
       "      <th>1</th>\n",
       "      <td>Afghanistan</td>\n",
       "      <td>AFG</td>\n",
       "      <td>2003</td>\n",
       "      <td>14.066129</td>\n",
       "      <td>1235.810063</td>\n",
       "      <td>23680871.0</td>\n",
       "    </tr>\n",
       "    <tr>\n",
       "      <th>2</th>\n",
       "      <td>Afghanistan</td>\n",
       "      <td>AFG</td>\n",
       "      <td>2004</td>\n",
       "      <td>15.657322</td>\n",
       "      <td>1200.278013</td>\n",
       "      <td>24726689.0</td>\n",
       "    </tr>\n",
       "    <tr>\n",
       "      <th>3</th>\n",
       "      <td>Afghanistan</td>\n",
       "      <td>AFG</td>\n",
       "      <td>2005</td>\n",
       "      <td>17.206297</td>\n",
       "      <td>1286.793659</td>\n",
       "      <td>25654274.0</td>\n",
       "    </tr>\n",
       "    <tr>\n",
       "      <th>4</th>\n",
       "      <td>Afghanistan</td>\n",
       "      <td>AFG</td>\n",
       "      <td>2006</td>\n",
       "      <td>21.535529</td>\n",
       "      <td>1315.789117</td>\n",
       "      <td>26433058.0</td>\n",
       "    </tr>\n",
       "    <tr>\n",
       "      <th>5</th>\n",
       "      <td>Afghanistan</td>\n",
       "      <td>AFG</td>\n",
       "      <td>2007</td>\n",
       "      <td>21.991904</td>\n",
       "      <td>1460.825751</td>\n",
       "      <td>27100542.0</td>\n",
       "    </tr>\n",
       "  </tbody>\n",
       "</table>\n",
       "</div>"
      ],
      "text/plain": [
       "        Entity Code  Year  \\\n",
       "1  Afghanistan  AFG  2003   \n",
       "2  Afghanistan  AFG  2004   \n",
       "3  Afghanistan  AFG  2005   \n",
       "4  Afghanistan  AFG  2006   \n",
       "5  Afghanistan  AFG  2007   \n",
       "\n",
       "   Government Expenditure (IMF based on Mauro et al. (2015))  \\\n",
       "1                                          14.066129           \n",
       "2                                          15.657322           \n",
       "3                                          17.206297           \n",
       "4                                          21.535529           \n",
       "5                                          21.991904           \n",
       "\n",
       "   GDP per capita, PPP (constant 2017 international $)  \\\n",
       "1                                        1235.810063     \n",
       "2                                        1200.278013     \n",
       "3                                        1286.793659     \n",
       "4                                        1315.789117     \n",
       "5                                        1460.825751     \n",
       "\n",
       "   Population (historical estimates)  \n",
       "1                         23680871.0  \n",
       "2                         24726689.0  \n",
       "3                         25654274.0  \n",
       "4                         26433058.0  \n",
       "5                         27100542.0  "
      ]
     },
     "execution_count": 3,
     "metadata": {},
     "output_type": "execute_result"
    }
   ],
   "source": [
    "df.drop(['Continent'],axis=1,inplace=True)\n",
    "df=df.dropna()\n",
    "print(df.shape)\n",
    "df.head()"
   ]
  },
  {
   "cell_type": "code",
   "execution_count": 4,
   "id": "5d19d2b7",
   "metadata": {
    "execution": {
     "iopub.execute_input": "2022-07-29T09:05:34.989851Z",
     "iopub.status.busy": "2022-07-29T09:05:34.989113Z",
     "iopub.status.idle": "2022-07-29T09:05:39.641190Z",
     "shell.execute_reply": "2022-07-29T09:05:39.640013Z"
    },
    "papermill": {
     "duration": 4.682965,
     "end_time": "2022-07-29T09:05:39.644893",
     "exception": false,
     "start_time": "2022-07-29T09:05:34.961928",
     "status": "completed"
    },
    "slideshow": {
     "slide_type": "subslide"
    },
    "tags": []
   },
   "outputs": [],
   "source": [
    "with open('new-country-level-government-spending-vs-income.csv', 'w', newline='') as f:\n",
    "    writer = csv.writer(f)\n",
    "    writer.writerow(['country_name','country_code','Government Expenditure (IMF based on Mauro et al. (2015))','GDP per capita, PPP (constant 2017 international $)'])\n",
    "    for i in range(len(df)):\n",
    "        year=int(str(df.iloc[[i],[2]]).split(' ')[-1])\n",
    "        if year == 2007:\n",
    "            country=''.join(str(df.iloc[[i],[0]]).split(' ')[-2:])\n",
    "            code=str(df.iloc[[i],[1]]).split(' ')[-1]\n",
    "            population=float(''.join(str(df.iloc[[i],[3]]).split(' ')[-9:]))\n",
    "            z=float(str(df.iloc[[i],[4]]).split(' ')[-3])\n",
    "            writer.writerow([country,code,population,z])\n"
   ]
  },
  {
   "cell_type": "code",
   "execution_count": null,
   "id": "90c4474d",
   "metadata": {},
   "outputs": [],
   "source": [
    "##Second Indicator"
   ]
  },
  {
   "cell_type": "code",
   "execution_count": 5,
   "id": "adffe048",
   "metadata": {
    "execution": {
     "iopub.execute_input": "2022-07-29T09:05:39.746667Z",
     "iopub.status.busy": "2022-07-29T09:05:39.746263Z",
     "iopub.status.idle": "2022-07-29T09:05:39.789351Z",
     "shell.execute_reply": "2022-07-29T09:05:39.787197Z"
    },
    "papermill": {
     "duration": 0.07247,
     "end_time": "2022-07-29T09:05:39.792602",
     "exception": false,
     "start_time": "2022-07-29T09:05:39.720132",
     "status": "completed"
    },
    "scrolled": true,
    "slideshow": {
     "slide_type": "subslide"
    },
    "tags": []
   },
   "outputs": [
    {
     "name": "stdout",
     "output_type": "stream",
     "text": [
      "(13592, 4)\n"
     ]
    },
    {
     "data": {
      "text/html": [
       "<div>\n",
       "<style scoped>\n",
       "    .dataframe tbody tr th:only-of-type {\n",
       "        vertical-align: middle;\n",
       "    }\n",
       "\n",
       "    .dataframe tbody tr th {\n",
       "        vertical-align: top;\n",
       "    }\n",
       "\n",
       "    .dataframe thead th {\n",
       "        text-align: right;\n",
       "    }\n",
       "</style>\n",
       "<table border=\"1\" class=\"dataframe\">\n",
       "  <thead>\n",
       "    <tr style=\"text-align: right;\">\n",
       "      <th></th>\n",
       "      <th>Entity</th>\n",
       "      <th>Code</th>\n",
       "      <th>Year</th>\n",
       "      <th>Arable land (hectares per person)</th>\n",
       "    </tr>\n",
       "  </thead>\n",
       "  <tbody>\n",
       "    <tr>\n",
       "      <th>0</th>\n",
       "      <td>Afghanistan</td>\n",
       "      <td>AFG</td>\n",
       "      <td>1961</td>\n",
       "      <td>0.834296</td>\n",
       "    </tr>\n",
       "    <tr>\n",
       "      <th>1</th>\n",
       "      <td>Afghanistan</td>\n",
       "      <td>AFG</td>\n",
       "      <td>1962</td>\n",
       "      <td>0.823402</td>\n",
       "    </tr>\n",
       "    <tr>\n",
       "      <th>2</th>\n",
       "      <td>Afghanistan</td>\n",
       "      <td>AFG</td>\n",
       "      <td>1963</td>\n",
       "      <td>0.812097</td>\n",
       "    </tr>\n",
       "    <tr>\n",
       "      <th>3</th>\n",
       "      <td>Afghanistan</td>\n",
       "      <td>AFG</td>\n",
       "      <td>1964</td>\n",
       "      <td>0.800429</td>\n",
       "    </tr>\n",
       "    <tr>\n",
       "      <th>4</th>\n",
       "      <td>Afghanistan</td>\n",
       "      <td>AFG</td>\n",
       "      <td>1965</td>\n",
       "      <td>0.783422</td>\n",
       "    </tr>\n",
       "  </tbody>\n",
       "</table>\n",
       "</div>"
      ],
      "text/plain": [
       "        Entity Code  Year  Arable land (hectares per person)\n",
       "0  Afghanistan  AFG  1961                           0.834296\n",
       "1  Afghanistan  AFG  1962                           0.823402\n",
       "2  Afghanistan  AFG  1963                           0.812097\n",
       "3  Afghanistan  AFG  1964                           0.800429\n",
       "4  Afghanistan  AFG  1965                           0.783422"
      ]
     },
     "execution_count": 5,
     "metadata": {},
     "output_type": "execute_result"
    }
   ],
   "source": [
    "df=pd.read_csv('../input/analysis-sustainable-development-goal-indicators/arable-land-use-per-person.csv')\n",
    "print(df.shape)\n",
    "df.head()\n"
   ]
  },
  {
   "cell_type": "code",
   "execution_count": 6,
   "id": "23adb2a7",
   "metadata": {
    "execution": {
     "iopub.execute_input": "2022-07-29T09:05:39.843831Z",
     "iopub.status.busy": "2022-07-29T09:05:39.843400Z",
     "iopub.status.idle": "2022-07-29T09:05:39.864737Z",
     "shell.execute_reply": "2022-07-29T09:05:39.863715Z"
    },
    "papermill": {
     "duration": 0.049555,
     "end_time": "2022-07-29T09:05:39.867046",
     "exception": false,
     "start_time": "2022-07-29T09:05:39.817491",
     "status": "completed"
    },
    "slideshow": {
     "slide_type": "subslide"
    },
    "tags": []
   },
   "outputs": [
    {
     "name": "stdout",
     "output_type": "stream",
     "text": [
      "(13592, 3)\n"
     ]
    },
    {
     "data": {
      "text/html": [
       "<div>\n",
       "<style scoped>\n",
       "    .dataframe tbody tr th:only-of-type {\n",
       "        vertical-align: middle;\n",
       "    }\n",
       "\n",
       "    .dataframe tbody tr th {\n",
       "        vertical-align: top;\n",
       "    }\n",
       "\n",
       "    .dataframe thead th {\n",
       "        text-align: right;\n",
       "    }\n",
       "</style>\n",
       "<table border=\"1\" class=\"dataframe\">\n",
       "  <thead>\n",
       "    <tr style=\"text-align: right;\">\n",
       "      <th></th>\n",
       "      <th>Entity</th>\n",
       "      <th>Year</th>\n",
       "      <th>Arable land (hectares per person)</th>\n",
       "    </tr>\n",
       "  </thead>\n",
       "  <tbody>\n",
       "    <tr>\n",
       "      <th>0</th>\n",
       "      <td>Afghanistan</td>\n",
       "      <td>1961</td>\n",
       "      <td>0.834296</td>\n",
       "    </tr>\n",
       "    <tr>\n",
       "      <th>1</th>\n",
       "      <td>Afghanistan</td>\n",
       "      <td>1962</td>\n",
       "      <td>0.823402</td>\n",
       "    </tr>\n",
       "    <tr>\n",
       "      <th>2</th>\n",
       "      <td>Afghanistan</td>\n",
       "      <td>1963</td>\n",
       "      <td>0.812097</td>\n",
       "    </tr>\n",
       "    <tr>\n",
       "      <th>3</th>\n",
       "      <td>Afghanistan</td>\n",
       "      <td>1964</td>\n",
       "      <td>0.800429</td>\n",
       "    </tr>\n",
       "    <tr>\n",
       "      <th>4</th>\n",
       "      <td>Afghanistan</td>\n",
       "      <td>1965</td>\n",
       "      <td>0.783422</td>\n",
       "    </tr>\n",
       "  </tbody>\n",
       "</table>\n",
       "</div>"
      ],
      "text/plain": [
       "        Entity  Year  Arable land (hectares per person)\n",
       "0  Afghanistan  1961                           0.834296\n",
       "1  Afghanistan  1962                           0.823402\n",
       "2  Afghanistan  1963                           0.812097\n",
       "3  Afghanistan  1964                           0.800429\n",
       "4  Afghanistan  1965                           0.783422"
      ]
     },
     "execution_count": 6,
     "metadata": {},
     "output_type": "execute_result"
    }
   ],
   "source": [
    "df.drop(['Code'],axis=1,inplace=True)\n",
    "df=df.dropna()\n",
    "print(df.shape)\n",
    "df.head()"
   ]
  },
  {
   "cell_type": "code",
   "execution_count": 7,
   "id": "c209e7bd",
   "metadata": {
    "execution": {
     "iopub.execute_input": "2022-07-29T09:05:39.919070Z",
     "iopub.status.busy": "2022-07-29T09:05:39.918705Z",
     "iopub.status.idle": "2022-07-29T09:05:57.361907Z",
     "shell.execute_reply": "2022-07-29T09:05:57.360617Z"
    },
    "papermill": {
     "duration": 17.472745,
     "end_time": "2022-07-29T09:05:57.364894",
     "exception": false,
     "start_time": "2022-07-29T09:05:39.892149",
     "status": "completed"
    },
    "slideshow": {
     "slide_type": "subslide"
    },
    "tags": []
   },
   "outputs": [],
   "source": [
    "with open('new-Arable-land-use-per-person.csv', 'w', newline='') as f:\n",
    "    writer = csv.writer(f)\n",
    "    writer.writerow(['country_name','Arable land (hectares per person)'])\n",
    "    for i in range(len(df)):\n",
    "        year=int(str(df.iloc[[i],[1]]).split(' ')[-1])\n",
    "        if year == 2017:\n",
    "            country=''.join(str(df.iloc[[i],[0]]).split(' ')[-2:])\n",
    "          #  population=float(''.join(str(df.iloc[[i],[2]]).split(' ')[-9:]))\n",
    "            z=float(str(df.iloc[[i],[2]]).split(' ')[-1])\n",
    "            writer.writerow([country,z])"
   ]
  },
  {
   "cell_type": "code",
   "execution_count": null,
   "id": "66b0b2a4",
   "metadata": {},
   "outputs": [],
   "source": [
    "##Third Indicator"
   ]
  },
  {
   "cell_type": "code",
   "execution_count": 8,
   "id": "399ded13",
   "metadata": {
    "execution": {
     "iopub.execute_input": "2022-07-29T09:05:57.471666Z",
     "iopub.status.busy": "2022-07-29T09:05:57.470702Z",
     "iopub.status.idle": "2022-07-29T09:05:57.561437Z",
     "shell.execute_reply": "2022-07-29T09:05:57.559897Z"
    },
    "papermill": {
     "duration": 0.122056,
     "end_time": "2022-07-29T09:05:57.564107",
     "exception": false,
     "start_time": "2022-07-29T09:05:57.442051",
     "status": "completed"
    },
    "slideshow": {
     "slide_type": "subslide"
    },
    "tags": []
   },
   "outputs": [
    {
     "name": "stdout",
     "output_type": "stream",
     "text": [
      "(55729, 7)\n"
     ]
    },
    {
     "data": {
      "text/html": [
       "<div>\n",
       "<style scoped>\n",
       "    .dataframe tbody tr th:only-of-type {\n",
       "        vertical-align: middle;\n",
       "    }\n",
       "\n",
       "    .dataframe tbody tr th {\n",
       "        vertical-align: top;\n",
       "    }\n",
       "\n",
       "    .dataframe thead th {\n",
       "        text-align: right;\n",
       "    }\n",
       "</style>\n",
       "<table border=\"1\" class=\"dataframe\">\n",
       "  <thead>\n",
       "    <tr style=\"text-align: right;\">\n",
       "      <th></th>\n",
       "      <th>Entity</th>\n",
       "      <th>Code</th>\n",
       "      <th>Year</th>\n",
       "      <th>PISA: Mean performance on the reading scale</th>\n",
       "      <th>Human Development Index - undp_hdi</th>\n",
       "      <th>Continent</th>\n",
       "      <th>Population (historical estimates)</th>\n",
       "    </tr>\n",
       "  </thead>\n",
       "  <tbody>\n",
       "    <tr>\n",
       "      <th>0</th>\n",
       "      <td>Abkhazia</td>\n",
       "      <td>OWID_ABK</td>\n",
       "      <td>2015</td>\n",
       "      <td>NaN</td>\n",
       "      <td>NaN</td>\n",
       "      <td>Asia</td>\n",
       "      <td>NaN</td>\n",
       "    </tr>\n",
       "    <tr>\n",
       "      <th>1</th>\n",
       "      <td>Afghanistan</td>\n",
       "      <td>AFG</td>\n",
       "      <td>1990</td>\n",
       "      <td>NaN</td>\n",
       "      <td>0.296681</td>\n",
       "      <td>NaN</td>\n",
       "      <td>12412311.0</td>\n",
       "    </tr>\n",
       "    <tr>\n",
       "      <th>2</th>\n",
       "      <td>Afghanistan</td>\n",
       "      <td>AFG</td>\n",
       "      <td>2000</td>\n",
       "      <td>NaN</td>\n",
       "      <td>0.334263</td>\n",
       "      <td>NaN</td>\n",
       "      <td>20779957.0</td>\n",
       "    </tr>\n",
       "    <tr>\n",
       "      <th>3</th>\n",
       "      <td>Afghanistan</td>\n",
       "      <td>AFG</td>\n",
       "      <td>2010</td>\n",
       "      <td>NaN</td>\n",
       "      <td>0.447722</td>\n",
       "      <td>NaN</td>\n",
       "      <td>29185511.0</td>\n",
       "    </tr>\n",
       "    <tr>\n",
       "      <th>4</th>\n",
       "      <td>Afghanistan</td>\n",
       "      <td>AFG</td>\n",
       "      <td>2011</td>\n",
       "      <td>NaN</td>\n",
       "      <td>0.455618</td>\n",
       "      <td>NaN</td>\n",
       "      <td>30117411.0</td>\n",
       "    </tr>\n",
       "  </tbody>\n",
       "</table>\n",
       "</div>"
      ],
      "text/plain": [
       "        Entity      Code  Year  PISA: Mean performance on the reading scale  \\\n",
       "0     Abkhazia  OWID_ABK  2015                                          NaN   \n",
       "1  Afghanistan       AFG  1990                                          NaN   \n",
       "2  Afghanistan       AFG  2000                                          NaN   \n",
       "3  Afghanistan       AFG  2010                                          NaN   \n",
       "4  Afghanistan       AFG  2011                                          NaN   \n",
       "\n",
       "   Human Development Index - undp_hdi Continent  \\\n",
       "0                                 NaN      Asia   \n",
       "1                            0.296681       NaN   \n",
       "2                            0.334263       NaN   \n",
       "3                            0.447722       NaN   \n",
       "4                            0.455618       NaN   \n",
       "\n",
       "   Population (historical estimates)  \n",
       "0                                NaN  \n",
       "1                         12412311.0  \n",
       "2                         20779957.0  \n",
       "3                         29185511.0  \n",
       "4                         30117411.0  "
      ]
     },
     "execution_count": 8,
     "metadata": {},
     "output_type": "execute_result"
    }
   ],
   "source": [
    "df=pd.read_csv('../input/analysis-sustainable-development-goal-indicators/correlation-between-oecd-pisa-reading-test-score-and-un-human-development-index-2012.csv')\n",
    "print(df.shape)\n",
    "df.head()"
   ]
  },
  {
   "cell_type": "code",
   "execution_count": 9,
   "id": "af7f2457",
   "metadata": {
    "execution": {
     "iopub.execute_input": "2022-07-29T09:05:57.616773Z",
     "iopub.status.busy": "2022-07-29T09:05:57.616357Z",
     "iopub.status.idle": "2022-07-29T09:05:57.645022Z",
     "shell.execute_reply": "2022-07-29T09:05:57.643035Z"
    },
    "papermill": {
     "duration": 0.058551,
     "end_time": "2022-07-29T09:05:57.648137",
     "exception": false,
     "start_time": "2022-07-29T09:05:57.589586",
     "status": "completed"
    },
    "slideshow": {
     "slide_type": "subslide"
    },
    "tags": []
   },
   "outputs": [
    {
     "name": "stdout",
     "output_type": "stream",
     "text": [
      "(1193, 4)\n"
     ]
    },
    {
     "data": {
      "text/html": [
       "<div>\n",
       "<style scoped>\n",
       "    .dataframe tbody tr th:only-of-type {\n",
       "        vertical-align: middle;\n",
       "    }\n",
       "\n",
       "    .dataframe tbody tr th {\n",
       "        vertical-align: top;\n",
       "    }\n",
       "\n",
       "    .dataframe thead th {\n",
       "        text-align: right;\n",
       "    }\n",
       "</style>\n",
       "<table border=\"1\" class=\"dataframe\">\n",
       "  <thead>\n",
       "    <tr style=\"text-align: right;\">\n",
       "      <th></th>\n",
       "      <th>Entity</th>\n",
       "      <th>Year</th>\n",
       "      <th>Human Development Index - undp_hdi</th>\n",
       "      <th>Population (historical estimates)</th>\n",
       "    </tr>\n",
       "  </thead>\n",
       "  <tbody>\n",
       "    <tr>\n",
       "      <th>1</th>\n",
       "      <td>Afghanistan</td>\n",
       "      <td>1990</td>\n",
       "      <td>0.296681</td>\n",
       "      <td>12412311.0</td>\n",
       "    </tr>\n",
       "    <tr>\n",
       "      <th>2</th>\n",
       "      <td>Afghanistan</td>\n",
       "      <td>2000</td>\n",
       "      <td>0.334263</td>\n",
       "      <td>20779957.0</td>\n",
       "    </tr>\n",
       "    <tr>\n",
       "      <th>3</th>\n",
       "      <td>Afghanistan</td>\n",
       "      <td>2010</td>\n",
       "      <td>0.447722</td>\n",
       "      <td>29185511.0</td>\n",
       "    </tr>\n",
       "    <tr>\n",
       "      <th>4</th>\n",
       "      <td>Afghanistan</td>\n",
       "      <td>2011</td>\n",
       "      <td>0.455618</td>\n",
       "      <td>30117411.0</td>\n",
       "    </tr>\n",
       "    <tr>\n",
       "      <th>5</th>\n",
       "      <td>Afghanistan</td>\n",
       "      <td>2012</td>\n",
       "      <td>0.463019</td>\n",
       "      <td>31161378.0</td>\n",
       "    </tr>\n",
       "  </tbody>\n",
       "</table>\n",
       "</div>"
      ],
      "text/plain": [
       "        Entity  Year  Human Development Index - undp_hdi  \\\n",
       "1  Afghanistan  1990                            0.296681   \n",
       "2  Afghanistan  2000                            0.334263   \n",
       "3  Afghanistan  2010                            0.447722   \n",
       "4  Afghanistan  2011                            0.455618   \n",
       "5  Afghanistan  2012                            0.463019   \n",
       "\n",
       "   Population (historical estimates)  \n",
       "1                         12412311.0  \n",
       "2                         20779957.0  \n",
       "3                         29185511.0  \n",
       "4                         30117411.0  \n",
       "5                         31161378.0  "
      ]
     },
     "execution_count": 9,
     "metadata": {},
     "output_type": "execute_result"
    }
   ],
   "source": [
    "df.drop(['Code','Continent','PISA: Mean performance on the reading scale'],axis=1,inplace=True)\n",
    "df=df.dropna()\n",
    "print(df.shape)\n",
    "df.head()"
   ]
  },
  {
   "cell_type": "code",
   "execution_count": 10,
   "id": "bbf19328",
   "metadata": {
    "execution": {
     "iopub.execute_input": "2022-07-29T09:05:57.706350Z",
     "iopub.status.busy": "2022-07-29T09:05:57.705085Z",
     "iopub.status.idle": "2022-07-29T09:05:59.948347Z",
     "shell.execute_reply": "2022-07-29T09:05:59.947087Z"
    },
    "papermill": {
     "duration": 2.275573,
     "end_time": "2022-07-29T09:05:59.950966",
     "exception": false,
     "start_time": "2022-07-29T09:05:57.675393",
     "status": "completed"
    },
    "slideshow": {
     "slide_type": "subslide"
    },
    "tags": []
   },
   "outputs": [],
   "source": [
    "with open('new-human Development Index.csv', 'w', newline='') as f:\n",
    "    writer = csv.writer(f)\n",
    "    writer.writerow(['country_name','Human Development Index - undp_hdi','Population (historical estimates)'])\n",
    "    for i in range(len(df)):\n",
    "        year=int(str(df.iloc[[i],[1]]).split(' ')[-1])\n",
    "        if year == 2010:\n",
    "            country=''.join(str(df.iloc[[i],[0]]).split(' ')[-2:])\n",
    "            y=float(str(df.iloc[[i],[3]]).split(' ')[-1])\n",
    "            z=float(str(df.iloc[[i],[2]]).split(' ')[-1])\n",
    "            writer.writerow([country,z,y])\n",
    "        else:\n",
    "            pass"
   ]
  },
  {
   "cell_type": "code",
   "execution_count": null,
   "id": "2967e8aa",
   "metadata": {},
   "outputs": [],
   "source": [
    "##Fourth Indicator "
   ]
  },
  {
   "cell_type": "code",
   "execution_count": 11,
   "id": "21e70332",
   "metadata": {
    "execution": {
     "iopub.execute_input": "2022-07-29T09:06:00.056398Z",
     "iopub.status.busy": "2022-07-29T09:06:00.055581Z",
     "iopub.status.idle": "2022-07-29T09:06:00.090595Z",
     "shell.execute_reply": "2022-07-29T09:06:00.089150Z"
    },
    "papermill": {
     "duration": 0.064512,
     "end_time": "2022-07-29T09:06:00.093392",
     "exception": false,
     "start_time": "2022-07-29T09:06:00.028880",
     "status": "completed"
    },
    "scrolled": true,
    "slideshow": {
     "slide_type": "subslide"
    },
    "tags": []
   },
   "outputs": [
    {
     "name": "stdout",
     "output_type": "stream",
     "text": [
      "(6468, 4)\n"
     ]
    },
    {
     "data": {
      "text/html": [
       "<div>\n",
       "<style scoped>\n",
       "    .dataframe tbody tr th:only-of-type {\n",
       "        vertical-align: middle;\n",
       "    }\n",
       "\n",
       "    .dataframe tbody tr th {\n",
       "        vertical-align: top;\n",
       "    }\n",
       "\n",
       "    .dataframe thead th {\n",
       "        text-align: right;\n",
       "    }\n",
       "</style>\n",
       "<table border=\"1\" class=\"dataframe\">\n",
       "  <thead>\n",
       "    <tr style=\"text-align: right;\">\n",
       "      <th></th>\n",
       "      <th>Entity</th>\n",
       "      <th>Code</th>\n",
       "      <th>Year</th>\n",
       "      <th>Deaths - Unsafe water source - Sex: Both - Age: Age-standardized (Rate)</th>\n",
       "    </tr>\n",
       "  </thead>\n",
       "  <tbody>\n",
       "    <tr>\n",
       "      <th>0</th>\n",
       "      <td>Afghanistan</td>\n",
       "      <td>AFG</td>\n",
       "      <td>1990</td>\n",
       "      <td>45.079901</td>\n",
       "    </tr>\n",
       "    <tr>\n",
       "      <th>1</th>\n",
       "      <td>Afghanistan</td>\n",
       "      <td>AFG</td>\n",
       "      <td>1991</td>\n",
       "      <td>40.391004</td>\n",
       "    </tr>\n",
       "    <tr>\n",
       "      <th>2</th>\n",
       "      <td>Afghanistan</td>\n",
       "      <td>AFG</td>\n",
       "      <td>1992</td>\n",
       "      <td>31.672732</td>\n",
       "    </tr>\n",
       "    <tr>\n",
       "      <th>3</th>\n",
       "      <td>Afghanistan</td>\n",
       "      <td>AFG</td>\n",
       "      <td>1993</td>\n",
       "      <td>33.811224</td>\n",
       "    </tr>\n",
       "    <tr>\n",
       "      <th>4</th>\n",
       "      <td>Afghanistan</td>\n",
       "      <td>AFG</td>\n",
       "      <td>1994</td>\n",
       "      <td>34.499943</td>\n",
       "    </tr>\n",
       "  </tbody>\n",
       "</table>\n",
       "</div>"
      ],
      "text/plain": [
       "        Entity Code  Year  \\\n",
       "0  Afghanistan  AFG  1990   \n",
       "1  Afghanistan  AFG  1991   \n",
       "2  Afghanistan  AFG  1992   \n",
       "3  Afghanistan  AFG  1993   \n",
       "4  Afghanistan  AFG  1994   \n",
       "\n",
       "   Deaths - Unsafe water source - Sex: Both - Age: Age-standardized (Rate)  \n",
       "0                                          45.079901                        \n",
       "1                                          40.391004                        \n",
       "2                                          31.672732                        \n",
       "3                                          33.811224                        \n",
       "4                                          34.499943                        "
      ]
     },
     "execution_count": 11,
     "metadata": {},
     "output_type": "execute_result"
    }
   ],
   "source": [
    "df=pd.read_csv('../input/analysis-sustainable-development-goal-indicators/death-rates-unsafe-water.csv')\n",
    "print(df.shape)\n",
    "df.head()"
   ]
  },
  {
   "cell_type": "code",
   "execution_count": 12,
   "id": "a742fc04",
   "metadata": {
    "execution": {
     "iopub.execute_input": "2022-07-29T09:06:00.147088Z",
     "iopub.status.busy": "2022-07-29T09:06:00.146360Z",
     "iopub.status.idle": "2022-07-29T09:06:00.163267Z",
     "shell.execute_reply": "2022-07-29T09:06:00.161960Z"
    },
    "papermill": {
     "duration": 0.0466,
     "end_time": "2022-07-29T09:06:00.165804",
     "exception": false,
     "start_time": "2022-07-29T09:06:00.119204",
     "status": "completed"
    },
    "slideshow": {
     "slide_type": "subslide"
    },
    "tags": []
   },
   "outputs": [
    {
     "name": "stdout",
     "output_type": "stream",
     "text": [
      "(6468, 3)\n"
     ]
    },
    {
     "data": {
      "text/html": [
       "<div>\n",
       "<style scoped>\n",
       "    .dataframe tbody tr th:only-of-type {\n",
       "        vertical-align: middle;\n",
       "    }\n",
       "\n",
       "    .dataframe tbody tr th {\n",
       "        vertical-align: top;\n",
       "    }\n",
       "\n",
       "    .dataframe thead th {\n",
       "        text-align: right;\n",
       "    }\n",
       "</style>\n",
       "<table border=\"1\" class=\"dataframe\">\n",
       "  <thead>\n",
       "    <tr style=\"text-align: right;\">\n",
       "      <th></th>\n",
       "      <th>Entity</th>\n",
       "      <th>Year</th>\n",
       "      <th>Deaths - Unsafe water source - Sex: Both - Age: Age-standardized (Rate)</th>\n",
       "    </tr>\n",
       "  </thead>\n",
       "  <tbody>\n",
       "    <tr>\n",
       "      <th>0</th>\n",
       "      <td>Afghanistan</td>\n",
       "      <td>1990</td>\n",
       "      <td>45.079901</td>\n",
       "    </tr>\n",
       "    <tr>\n",
       "      <th>1</th>\n",
       "      <td>Afghanistan</td>\n",
       "      <td>1991</td>\n",
       "      <td>40.391004</td>\n",
       "    </tr>\n",
       "    <tr>\n",
       "      <th>2</th>\n",
       "      <td>Afghanistan</td>\n",
       "      <td>1992</td>\n",
       "      <td>31.672732</td>\n",
       "    </tr>\n",
       "    <tr>\n",
       "      <th>3</th>\n",
       "      <td>Afghanistan</td>\n",
       "      <td>1993</td>\n",
       "      <td>33.811224</td>\n",
       "    </tr>\n",
       "    <tr>\n",
       "      <th>4</th>\n",
       "      <td>Afghanistan</td>\n",
       "      <td>1994</td>\n",
       "      <td>34.499943</td>\n",
       "    </tr>\n",
       "  </tbody>\n",
       "</table>\n",
       "</div>"
      ],
      "text/plain": [
       "        Entity  Year  \\\n",
       "0  Afghanistan  1990   \n",
       "1  Afghanistan  1991   \n",
       "2  Afghanistan  1992   \n",
       "3  Afghanistan  1993   \n",
       "4  Afghanistan  1994   \n",
       "\n",
       "   Deaths - Unsafe water source - Sex: Both - Age: Age-standardized (Rate)  \n",
       "0                                          45.079901                        \n",
       "1                                          40.391004                        \n",
       "2                                          31.672732                        \n",
       "3                                          33.811224                        \n",
       "4                                          34.499943                        "
      ]
     },
     "execution_count": 12,
     "metadata": {},
     "output_type": "execute_result"
    }
   ],
   "source": [
    "df.drop(['Code'],axis=1,inplace=True)\n",
    "df=df.dropna()\n",
    "print(df.shape)\n",
    "df.head()"
   ]
  },
  {
   "cell_type": "code",
   "execution_count": 13,
   "id": "5b97bb88",
   "metadata": {
    "execution": {
     "iopub.execute_input": "2022-07-29T09:06:00.220586Z",
     "iopub.status.busy": "2022-07-29T09:06:00.219481Z",
     "iopub.status.idle": "2022-07-29T09:06:08.892095Z",
     "shell.execute_reply": "2022-07-29T09:06:08.890853Z"
    },
    "papermill": {
     "duration": 8.703133,
     "end_time": "2022-07-29T09:06:08.894975",
     "exception": false,
     "start_time": "2022-07-29T09:06:00.191842",
     "status": "completed"
    },
    "slideshow": {
     "slide_type": "subslide"
    },
    "tags": []
   },
   "outputs": [],
   "source": [
    "with open('new-Deaths - Unsafe water source.csv', 'w', newline='') as f:\n",
    "    writer = csv.writer(f)\n",
    "    writer.writerow(['country_name','Deaths - Unsafe water source'])\n",
    "    for i in range(len(df)):\n",
    "        year=int(str(df.iloc[[i],[1]]).split(' ')[-1])\n",
    "        if year == 2017:\n",
    "            country=''.join(str(df.iloc[[i],[0]]).split(' ')[-2:])\n",
    "            #y=float(str(df.iloc[[i],[3]]).split(' ')[-1])\n",
    "            z=float(''.join(str(df.iloc[[i],[2]]).split(' ')[-23:]))\n",
    "            writer.writerow([country,z])\n",
    "        else:\n",
    "            pass"
   ]
  },
  {
   "cell_type": "code",
   "execution_count": null,
   "id": "e7614654",
   "metadata": {},
   "outputs": [],
   "source": [
    "##Fifth Indicator "
   ]
  },
  {
   "cell_type": "code",
   "execution_count": 14,
   "id": "645b1db9",
   "metadata": {
    "execution": {
     "iopub.execute_input": "2022-07-29T09:06:09.000863Z",
     "iopub.status.busy": "2022-07-29T09:06:08.999939Z",
     "iopub.status.idle": "2022-07-29T09:06:09.099700Z",
     "shell.execute_reply": "2022-07-29T09:06:09.097743Z"
    },
    "papermill": {
     "duration": 0.130079,
     "end_time": "2022-07-29T09:06:09.103065",
     "exception": false,
     "start_time": "2022-07-29T09:06:08.972986",
     "status": "completed"
    },
    "slideshow": {
     "slide_type": "subslide"
    },
    "tags": []
   },
   "outputs": [
    {
     "name": "stdout",
     "output_type": "stream",
     "text": [
      "(57131, 7)\n"
     ]
    },
    {
     "data": {
      "text/html": [
       "<div>\n",
       "<style scoped>\n",
       "    .dataframe tbody tr th:only-of-type {\n",
       "        vertical-align: middle;\n",
       "    }\n",
       "\n",
       "    .dataframe tbody tr th {\n",
       "        vertical-align: top;\n",
       "    }\n",
       "\n",
       "    .dataframe thead th {\n",
       "        text-align: right;\n",
       "    }\n",
       "</style>\n",
       "<table border=\"1\" class=\"dataframe\">\n",
       "  <thead>\n",
       "    <tr style=\"text-align: right;\">\n",
       "      <th></th>\n",
       "      <th>Entity</th>\n",
       "      <th>Code</th>\n",
       "      <th>Year</th>\n",
       "      <th>Gender wage gap (%)</th>\n",
       "      <th>GDP per capita, PPP (current international $)</th>\n",
       "      <th>Population (historical estimates)</th>\n",
       "      <th>Continent</th>\n",
       "    </tr>\n",
       "  </thead>\n",
       "  <tbody>\n",
       "    <tr>\n",
       "      <th>0</th>\n",
       "      <td>Abkhazia</td>\n",
       "      <td>OWID_ABK</td>\n",
       "      <td>2015</td>\n",
       "      <td>NaN</td>\n",
       "      <td>NaN</td>\n",
       "      <td>NaN</td>\n",
       "      <td>Asia</td>\n",
       "    </tr>\n",
       "    <tr>\n",
       "      <th>1</th>\n",
       "      <td>Afghanistan</td>\n",
       "      <td>AFG</td>\n",
       "      <td>2002</td>\n",
       "      <td>NaN</td>\n",
       "      <td>877.014268</td>\n",
       "      <td>22600774.0</td>\n",
       "      <td>NaN</td>\n",
       "    </tr>\n",
       "    <tr>\n",
       "      <th>2</th>\n",
       "      <td>Afghanistan</td>\n",
       "      <td>AFG</td>\n",
       "      <td>2003</td>\n",
       "      <td>NaN</td>\n",
       "      <td>927.857548</td>\n",
       "      <td>23680871.0</td>\n",
       "      <td>NaN</td>\n",
       "    </tr>\n",
       "    <tr>\n",
       "      <th>3</th>\n",
       "      <td>Afghanistan</td>\n",
       "      <td>AFG</td>\n",
       "      <td>2004</td>\n",
       "      <td>NaN</td>\n",
       "      <td>925.441429</td>\n",
       "      <td>24726689.0</td>\n",
       "      <td>NaN</td>\n",
       "    </tr>\n",
       "    <tr>\n",
       "      <th>4</th>\n",
       "      <td>Afghanistan</td>\n",
       "      <td>AFG</td>\n",
       "      <td>2005</td>\n",
       "      <td>NaN</td>\n",
       "      <td>1023.051749</td>\n",
       "      <td>25654274.0</td>\n",
       "      <td>NaN</td>\n",
       "    </tr>\n",
       "  </tbody>\n",
       "</table>\n",
       "</div>"
      ],
      "text/plain": [
       "        Entity      Code  Year  Gender wage gap (%)  \\\n",
       "0     Abkhazia  OWID_ABK  2015                  NaN   \n",
       "1  Afghanistan       AFG  2002                  NaN   \n",
       "2  Afghanistan       AFG  2003                  NaN   \n",
       "3  Afghanistan       AFG  2004                  NaN   \n",
       "4  Afghanistan       AFG  2005                  NaN   \n",
       "\n",
       "   GDP per capita, PPP (current international $)  \\\n",
       "0                                            NaN   \n",
       "1                                     877.014268   \n",
       "2                                     927.857548   \n",
       "3                                     925.441429   \n",
       "4                                    1023.051749   \n",
       "\n",
       "   Population (historical estimates) Continent  \n",
       "0                                NaN      Asia  \n",
       "1                         22600774.0       NaN  \n",
       "2                         23680871.0       NaN  \n",
       "3                         24726689.0       NaN  \n",
       "4                         25654274.0       NaN  "
      ]
     },
     "execution_count": 14,
     "metadata": {},
     "output_type": "execute_result"
    }
   ],
   "source": [
    "df=pd.read_csv('../input/analysis-sustainable-development-goal-indicators/gender-wage-gap-vs-gdp-per-capita.csv')\n",
    "print(df.shape)\n",
    "df.head()"
   ]
  },
  {
   "cell_type": "code",
   "execution_count": 15,
   "id": "68b7a231",
   "metadata": {
    "execution": {
     "iopub.execute_input": "2022-07-29T09:06:09.160067Z",
     "iopub.status.busy": "2022-07-29T09:06:09.159236Z",
     "iopub.status.idle": "2022-07-29T09:06:09.208464Z",
     "shell.execute_reply": "2022-07-29T09:06:09.207070Z"
    },
    "papermill": {
     "duration": 0.080302,
     "end_time": "2022-07-29T09:06:09.211341",
     "exception": false,
     "start_time": "2022-07-29T09:06:09.131039",
     "status": "completed"
    },
    "slideshow": {
     "slide_type": "subslide"
    },
    "tags": []
   },
   "outputs": [
    {
     "name": "stdout",
     "output_type": "stream",
     "text": [
      "<class 'pandas.core.frame.DataFrame'>\n",
      "RangeIndex: 57131 entries, 0 to 57130\n",
      "Data columns (total 4 columns):\n",
      " #   Column                             Non-Null Count  Dtype  \n",
      "---  ------                             --------------  -----  \n",
      " 0   Entity                             57131 non-null  object \n",
      " 1   Year                               57131 non-null  int64  \n",
      " 2   Gender wage gap (%)                413 non-null    float64\n",
      " 3   Population (historical estimates)  55656 non-null  float64\n",
      "dtypes: float64(2), int64(1), object(1)\n",
      "memory usage: 1.7+ MB\n",
      "(57131, 4)\n"
     ]
    },
    {
     "data": {
      "text/html": [
       "<div>\n",
       "<style scoped>\n",
       "    .dataframe tbody tr th:only-of-type {\n",
       "        vertical-align: middle;\n",
       "    }\n",
       "\n",
       "    .dataframe tbody tr th {\n",
       "        vertical-align: top;\n",
       "    }\n",
       "\n",
       "    .dataframe thead th {\n",
       "        text-align: right;\n",
       "    }\n",
       "</style>\n",
       "<table border=\"1\" class=\"dataframe\">\n",
       "  <thead>\n",
       "    <tr style=\"text-align: right;\">\n",
       "      <th></th>\n",
       "      <th>Entity</th>\n",
       "      <th>Year</th>\n",
       "      <th>Gender wage gap (%)</th>\n",
       "      <th>Population (historical estimates)</th>\n",
       "    </tr>\n",
       "  </thead>\n",
       "  <tbody>\n",
       "    <tr>\n",
       "      <th>0</th>\n",
       "      <td>Abkhazia</td>\n",
       "      <td>2015</td>\n",
       "      <td>0.0</td>\n",
       "      <td>0.0</td>\n",
       "    </tr>\n",
       "    <tr>\n",
       "      <th>1</th>\n",
       "      <td>Afghanistan</td>\n",
       "      <td>2002</td>\n",
       "      <td>0.0</td>\n",
       "      <td>22600774.0</td>\n",
       "    </tr>\n",
       "    <tr>\n",
       "      <th>2</th>\n",
       "      <td>Afghanistan</td>\n",
       "      <td>2003</td>\n",
       "      <td>0.0</td>\n",
       "      <td>23680871.0</td>\n",
       "    </tr>\n",
       "    <tr>\n",
       "      <th>3</th>\n",
       "      <td>Afghanistan</td>\n",
       "      <td>2004</td>\n",
       "      <td>0.0</td>\n",
       "      <td>24726689.0</td>\n",
       "    </tr>\n",
       "    <tr>\n",
       "      <th>4</th>\n",
       "      <td>Afghanistan</td>\n",
       "      <td>2005</td>\n",
       "      <td>0.0</td>\n",
       "      <td>25654274.0</td>\n",
       "    </tr>\n",
       "  </tbody>\n",
       "</table>\n",
       "</div>"
      ],
      "text/plain": [
       "        Entity  Year  Gender wage gap (%)  Population (historical estimates)\n",
       "0     Abkhazia  2015                  0.0                                0.0\n",
       "1  Afghanistan  2002                  0.0                         22600774.0\n",
       "2  Afghanistan  2003                  0.0                         23680871.0\n",
       "3  Afghanistan  2004                  0.0                         24726689.0\n",
       "4  Afghanistan  2005                  0.0                         25654274.0"
      ]
     },
     "execution_count": 15,
     "metadata": {},
     "output_type": "execute_result"
    }
   ],
   "source": [
    "df.drop(['Code','Continent','GDP per capita, PPP (current international $)'],axis=1,inplace=True)\n",
    "df.info()\n",
    "df=df.fillna(0)\n",
    "print(df.shape)\n",
    "df.head()"
   ]
  },
  {
   "cell_type": "code",
   "execution_count": 16,
   "id": "9524069d",
   "metadata": {
    "execution": {
     "iopub.execute_input": "2022-07-29T09:06:09.268548Z",
     "iopub.status.busy": "2022-07-29T09:06:09.267859Z",
     "iopub.status.idle": "2022-07-29T09:07:22.188884Z",
     "shell.execute_reply": "2022-07-29T09:07:22.187635Z"
    },
    "papermill": {
     "duration": 72.95319,
     "end_time": "2022-07-29T09:07:22.191812",
     "exception": false,
     "start_time": "2022-07-29T09:06:09.238622",
     "status": "completed"
    },
    "slideshow": {
     "slide_type": "subslide"
    },
    "tags": []
   },
   "outputs": [],
   "source": [
    "with open('new-Gender wage gap.csv', 'w', newline='') as f:\n",
    "    writer = csv.writer(f)\n",
    "    writer.writerow(['country_name','Gender wage gap (%)','Population'])\n",
    "    for i in range(len(df)):\n",
    "        year=int(str(df.iloc[[i],[1]]).split(' ')[-1])\n",
    "        if year == 2020:\n",
    "            country=''.join(str(df.iloc[[i],[0]]).split(' ')[-2:])\n",
    "            y=float(str(df.iloc[[i],[3]]).split(' ')[-1])\n",
    "            z=float(str(df.iloc[[i],[2]]).split(' ')[-1])\n",
    "            writer.writerow([country,z,y])\n",
    "        else:\n",
    "            pass"
   ]
  },
  {
   "cell_type": "code",
   "execution_count": null,
   "id": "2aa2f00b",
   "metadata": {},
   "outputs": [],
   "source": [
    "##Sixth Indicator "
   ]
  },
  {
   "cell_type": "code",
   "execution_count": 17,
   "id": "c4797579",
   "metadata": {
    "execution": {
     "iopub.execute_input": "2022-07-29T09:07:22.299963Z",
     "iopub.status.busy": "2022-07-29T09:07:22.299261Z",
     "iopub.status.idle": "2022-07-29T09:07:22.325900Z",
     "shell.execute_reply": "2022-07-29T09:07:22.323923Z"
    },
    "papermill": {
     "duration": 0.057074,
     "end_time": "2022-07-29T09:07:22.328531",
     "exception": false,
     "start_time": "2022-07-29T09:07:22.271457",
     "status": "completed"
    },
    "slideshow": {
     "slide_type": "subslide"
    },
    "tags": []
   },
   "outputs": [
    {
     "name": "stdout",
     "output_type": "stream",
     "text": [
      "(3196, 4)\n"
     ]
    },
    {
     "data": {
      "text/html": [
       "<div>\n",
       "<style scoped>\n",
       "    .dataframe tbody tr th:only-of-type {\n",
       "        vertical-align: middle;\n",
       "    }\n",
       "\n",
       "    .dataframe tbody tr th {\n",
       "        vertical-align: top;\n",
       "    }\n",
       "\n",
       "    .dataframe thead th {\n",
       "        text-align: right;\n",
       "    }\n",
       "</style>\n",
       "<table border=\"1\" class=\"dataframe\">\n",
       "  <thead>\n",
       "    <tr style=\"text-align: right;\">\n",
       "      <th></th>\n",
       "      <th>Entity</th>\n",
       "      <th>Code</th>\n",
       "      <th>Year</th>\n",
       "      <th>undernourishment_prevalence</th>\n",
       "    </tr>\n",
       "  </thead>\n",
       "  <tbody>\n",
       "    <tr>\n",
       "      <th>0</th>\n",
       "      <td>Afghanistan</td>\n",
       "      <td>AFG</td>\n",
       "      <td>2001</td>\n",
       "      <td>47.8</td>\n",
       "    </tr>\n",
       "    <tr>\n",
       "      <th>1</th>\n",
       "      <td>Afghanistan</td>\n",
       "      <td>AFG</td>\n",
       "      <td>2002</td>\n",
       "      <td>45.7</td>\n",
       "    </tr>\n",
       "    <tr>\n",
       "      <th>2</th>\n",
       "      <td>Afghanistan</td>\n",
       "      <td>AFG</td>\n",
       "      <td>2003</td>\n",
       "      <td>40.7</td>\n",
       "    </tr>\n",
       "    <tr>\n",
       "      <th>3</th>\n",
       "      <td>Afghanistan</td>\n",
       "      <td>AFG</td>\n",
       "      <td>2004</td>\n",
       "      <td>38.1</td>\n",
       "    </tr>\n",
       "    <tr>\n",
       "      <th>4</th>\n",
       "      <td>Afghanistan</td>\n",
       "      <td>AFG</td>\n",
       "      <td>2005</td>\n",
       "      <td>36.2</td>\n",
       "    </tr>\n",
       "  </tbody>\n",
       "</table>\n",
       "</div>"
      ],
      "text/plain": [
       "        Entity Code  Year undernourishment_prevalence\n",
       "0  Afghanistan  AFG  2001                        47.8\n",
       "1  Afghanistan  AFG  2002                        45.7\n",
       "2  Afghanistan  AFG  2003                        40.7\n",
       "3  Afghanistan  AFG  2004                        38.1\n",
       "4  Afghanistan  AFG  2005                        36.2"
      ]
     },
     "execution_count": 17,
     "metadata": {},
     "output_type": "execute_result"
    }
   ],
   "source": [
    "df=pd.read_csv('../input/analysis-sustainable-development-goal-indicators/prevalence-of-undernourishment.csv')\n",
    "print(df.shape)\n",
    "df.head()"
   ]
  },
  {
   "cell_type": "code",
   "execution_count": 18,
   "id": "00c152d1",
   "metadata": {
    "execution": {
     "iopub.execute_input": "2022-07-29T09:07:22.383588Z",
     "iopub.status.busy": "2022-07-29T09:07:22.383172Z",
     "iopub.status.idle": "2022-07-29T09:07:22.400977Z",
     "shell.execute_reply": "2022-07-29T09:07:22.399745Z"
    },
    "papermill": {
     "duration": 0.048191,
     "end_time": "2022-07-29T09:07:22.403527",
     "exception": false,
     "start_time": "2022-07-29T09:07:22.355336",
     "status": "completed"
    },
    "slideshow": {
     "slide_type": "subslide"
    },
    "tags": []
   },
   "outputs": [
    {
     "name": "stdout",
     "output_type": "stream",
     "text": [
      "(3196, 3)\n"
     ]
    },
    {
     "data": {
      "text/html": [
       "<div>\n",
       "<style scoped>\n",
       "    .dataframe tbody tr th:only-of-type {\n",
       "        vertical-align: middle;\n",
       "    }\n",
       "\n",
       "    .dataframe tbody tr th {\n",
       "        vertical-align: top;\n",
       "    }\n",
       "\n",
       "    .dataframe thead th {\n",
       "        text-align: right;\n",
       "    }\n",
       "</style>\n",
       "<table border=\"1\" class=\"dataframe\">\n",
       "  <thead>\n",
       "    <tr style=\"text-align: right;\">\n",
       "      <th></th>\n",
       "      <th>Entity</th>\n",
       "      <th>Year</th>\n",
       "      <th>undernourishment_prevalence</th>\n",
       "    </tr>\n",
       "  </thead>\n",
       "  <tbody>\n",
       "    <tr>\n",
       "      <th>0</th>\n",
       "      <td>Afghanistan</td>\n",
       "      <td>2001</td>\n",
       "      <td>47.8</td>\n",
       "    </tr>\n",
       "    <tr>\n",
       "      <th>1</th>\n",
       "      <td>Afghanistan</td>\n",
       "      <td>2002</td>\n",
       "      <td>45.7</td>\n",
       "    </tr>\n",
       "    <tr>\n",
       "      <th>2</th>\n",
       "      <td>Afghanistan</td>\n",
       "      <td>2003</td>\n",
       "      <td>40.7</td>\n",
       "    </tr>\n",
       "    <tr>\n",
       "      <th>3</th>\n",
       "      <td>Afghanistan</td>\n",
       "      <td>2004</td>\n",
       "      <td>38.1</td>\n",
       "    </tr>\n",
       "    <tr>\n",
       "      <th>4</th>\n",
       "      <td>Afghanistan</td>\n",
       "      <td>2005</td>\n",
       "      <td>36.2</td>\n",
       "    </tr>\n",
       "  </tbody>\n",
       "</table>\n",
       "</div>"
      ],
      "text/plain": [
       "        Entity  Year undernourishment_prevalence\n",
       "0  Afghanistan  2001                        47.8\n",
       "1  Afghanistan  2002                        45.7\n",
       "2  Afghanistan  2003                        40.7\n",
       "3  Afghanistan  2004                        38.1\n",
       "4  Afghanistan  2005                        36.2"
      ]
     },
     "execution_count": 18,
     "metadata": {},
     "output_type": "execute_result"
    }
   ],
   "source": [
    "df.drop(['Code'],axis=1,inplace=True)\n",
    "df=df.dropna()\n",
    "print(df.shape)\n",
    "df.head()"
   ]
  },
  {
   "cell_type": "code",
   "execution_count": 19,
   "id": "988c6713",
   "metadata": {
    "execution": {
     "iopub.execute_input": "2022-07-29T09:07:22.460243Z",
     "iopub.status.busy": "2022-07-29T09:07:22.459556Z",
     "iopub.status.idle": "2022-07-29T09:07:26.844220Z",
     "shell.execute_reply": "2022-07-29T09:07:26.843137Z"
    },
    "papermill": {
     "duration": 4.415734,
     "end_time": "2022-07-29T09:07:26.846904",
     "exception": false,
     "start_time": "2022-07-29T09:07:22.431170",
     "status": "completed"
    },
    "slideshow": {
     "slide_type": "subslide"
    },
    "tags": []
   },
   "outputs": [],
   "source": [
    "with open('new-undernourishment.csv', 'w', newline='') as f:\n",
    "    writer = csv.writer(f)\n",
    "    writer.writerow(['country_name','undernourishment_prevalence'])\n",
    "    for i in range(len(df)):\n",
    "        year=int(str(df.iloc[[i],[1]]).split(' ')[-1])\n",
    "        if year == 2017:\n",
    "            country=''.join(str(df.iloc[[i],[0]]).split(' ')[-2:])\n",
    "            #y=float(str(df.iloc[[i],[3]]).split(' ')[-1])\n",
    "            z=''.join(str(df.iloc[[i],[2]]).split(' ')[-1])\n",
    "            writer.writerow([country,z])\n",
    "        else:\n",
    "            pass"
   ]
  },
  {
   "cell_type": "code",
   "execution_count": null,
   "id": "d6d1ab71",
   "metadata": {},
   "outputs": [],
   "source": [
    "##Seventh Indicator "
   ]
  },
  {
   "cell_type": "code",
   "execution_count": 20,
   "id": "df7ea749",
   "metadata": {
    "execution": {
     "iopub.execute_input": "2022-07-29T09:07:26.965392Z",
     "iopub.status.busy": "2022-07-29T09:07:26.964659Z",
     "iopub.status.idle": "2022-07-29T09:07:27.001470Z",
     "shell.execute_reply": "2022-07-29T09:07:26.999199Z"
    },
    "papermill": {
     "duration": 0.074611,
     "end_time": "2022-07-29T09:07:27.004342",
     "exception": false,
     "start_time": "2022-07-29T09:07:26.929731",
     "status": "completed"
    },
    "slideshow": {
     "slide_type": "subslide"
    },
    "tags": []
   },
   "outputs": [
    {
     "name": "stdout",
     "output_type": "stream",
     "text": [
      "(6155, 4)\n"
     ]
    },
    {
     "data": {
      "text/html": [
       "<div>\n",
       "<style scoped>\n",
       "    .dataframe tbody tr th:only-of-type {\n",
       "        vertical-align: middle;\n",
       "    }\n",
       "\n",
       "    .dataframe tbody tr th {\n",
       "        vertical-align: top;\n",
       "    }\n",
       "\n",
       "    .dataframe thead th {\n",
       "        text-align: right;\n",
       "    }\n",
       "</style>\n",
       "<table border=\"1\" class=\"dataframe\">\n",
       "  <thead>\n",
       "    <tr style=\"text-align: right;\">\n",
       "      <th></th>\n",
       "      <th>Entity</th>\n",
       "      <th>Code</th>\n",
       "      <th>Year</th>\n",
       "      <th>Renewables (% electricity)</th>\n",
       "    </tr>\n",
       "  </thead>\n",
       "  <tbody>\n",
       "    <tr>\n",
       "      <th>0</th>\n",
       "      <td>Afghanistan</td>\n",
       "      <td>AFG</td>\n",
       "      <td>2000</td>\n",
       "      <td>66.809422</td>\n",
       "    </tr>\n",
       "    <tr>\n",
       "      <th>1</th>\n",
       "      <td>Afghanistan</td>\n",
       "      <td>AFG</td>\n",
       "      <td>2001</td>\n",
       "      <td>84.121622</td>\n",
       "    </tr>\n",
       "    <tr>\n",
       "      <th>2</th>\n",
       "      <td>Afghanistan</td>\n",
       "      <td>AFG</td>\n",
       "      <td>2002</td>\n",
       "      <td>80.786026</td>\n",
       "    </tr>\n",
       "    <tr>\n",
       "      <th>3</th>\n",
       "      <td>Afghanistan</td>\n",
       "      <td>AFG</td>\n",
       "      <td>2003</td>\n",
       "      <td>67.092652</td>\n",
       "    </tr>\n",
       "    <tr>\n",
       "      <th>4</th>\n",
       "      <td>Afghanistan</td>\n",
       "      <td>AFG</td>\n",
       "      <td>2004</td>\n",
       "      <td>63.199105</td>\n",
       "    </tr>\n",
       "  </tbody>\n",
       "</table>\n",
       "</div>"
      ],
      "text/plain": [
       "        Entity Code  Year  Renewables (% electricity)\n",
       "0  Afghanistan  AFG  2000                   66.809422\n",
       "1  Afghanistan  AFG  2001                   84.121622\n",
       "2  Afghanistan  AFG  2002                   80.786026\n",
       "3  Afghanistan  AFG  2003                   67.092652\n",
       "4  Afghanistan  AFG  2004                   63.199105"
      ]
     },
     "execution_count": 20,
     "metadata": {},
     "output_type": "execute_result"
    }
   ],
   "source": [
    "df=pd.read_csv('../input/analysis-sustainable-development-goal-indicators/share-electricity-renewables.csv')\n",
    "print(df.shape)\n",
    "df.head()"
   ]
  },
  {
   "cell_type": "code",
   "execution_count": 21,
   "id": "aa7674ce",
   "metadata": {
    "execution": {
     "iopub.execute_input": "2022-07-29T09:07:27.072858Z",
     "iopub.status.busy": "2022-07-29T09:07:27.072444Z",
     "iopub.status.idle": "2022-07-29T09:07:27.095899Z",
     "shell.execute_reply": "2022-07-29T09:07:27.094514Z"
    },
    "papermill": {
     "duration": 0.062321,
     "end_time": "2022-07-29T09:07:27.098857",
     "exception": false,
     "start_time": "2022-07-29T09:07:27.036536",
     "status": "completed"
    },
    "slideshow": {
     "slide_type": "subslide"
    },
    "tags": []
   },
   "outputs": [
    {
     "name": "stdout",
     "output_type": "stream",
     "text": [
      "(6155, 3)\n"
     ]
    },
    {
     "data": {
      "text/html": [
       "<div>\n",
       "<style scoped>\n",
       "    .dataframe tbody tr th:only-of-type {\n",
       "        vertical-align: middle;\n",
       "    }\n",
       "\n",
       "    .dataframe tbody tr th {\n",
       "        vertical-align: top;\n",
       "    }\n",
       "\n",
       "    .dataframe thead th {\n",
       "        text-align: right;\n",
       "    }\n",
       "</style>\n",
       "<table border=\"1\" class=\"dataframe\">\n",
       "  <thead>\n",
       "    <tr style=\"text-align: right;\">\n",
       "      <th></th>\n",
       "      <th>Entity</th>\n",
       "      <th>Year</th>\n",
       "      <th>Renewables (% electricity)</th>\n",
       "    </tr>\n",
       "  </thead>\n",
       "  <tbody>\n",
       "    <tr>\n",
       "      <th>0</th>\n",
       "      <td>Afghanistan</td>\n",
       "      <td>2000</td>\n",
       "      <td>66.809422</td>\n",
       "    </tr>\n",
       "    <tr>\n",
       "      <th>1</th>\n",
       "      <td>Afghanistan</td>\n",
       "      <td>2001</td>\n",
       "      <td>84.121622</td>\n",
       "    </tr>\n",
       "    <tr>\n",
       "      <th>2</th>\n",
       "      <td>Afghanistan</td>\n",
       "      <td>2002</td>\n",
       "      <td>80.786026</td>\n",
       "    </tr>\n",
       "    <tr>\n",
       "      <th>3</th>\n",
       "      <td>Afghanistan</td>\n",
       "      <td>2003</td>\n",
       "      <td>67.092652</td>\n",
       "    </tr>\n",
       "    <tr>\n",
       "      <th>4</th>\n",
       "      <td>Afghanistan</td>\n",
       "      <td>2004</td>\n",
       "      <td>63.199105</td>\n",
       "    </tr>\n",
       "  </tbody>\n",
       "</table>\n",
       "</div>"
      ],
      "text/plain": [
       "        Entity  Year  Renewables (% electricity)\n",
       "0  Afghanistan  2000                   66.809422\n",
       "1  Afghanistan  2001                   84.121622\n",
       "2  Afghanistan  2002                   80.786026\n",
       "3  Afghanistan  2003                   67.092652\n",
       "4  Afghanistan  2004                   63.199105"
      ]
     },
     "execution_count": 21,
     "metadata": {},
     "output_type": "execute_result"
    }
   ],
   "source": [
    "df.drop(['Code'],axis=1,inplace=True)\n",
    "print(df.shape)\n",
    "df=df.dropna()\n",
    "df.head()"
   ]
  },
  {
   "cell_type": "code",
   "execution_count": 22,
   "id": "838300ca",
   "metadata": {
    "execution": {
     "iopub.execute_input": "2022-07-29T09:07:27.159141Z",
     "iopub.status.busy": "2022-07-29T09:07:27.158514Z",
     "iopub.status.idle": "2022-07-29T09:07:35.407097Z",
     "shell.execute_reply": "2022-07-29T09:07:35.405891Z"
    },
    "papermill": {
     "duration": 8.282297,
     "end_time": "2022-07-29T09:07:35.409764",
     "exception": false,
     "start_time": "2022-07-29T09:07:27.127467",
     "status": "completed"
    },
    "slideshow": {
     "slide_type": "subslide"
    },
    "tags": []
   },
   "outputs": [],
   "source": [
    "with open('new-Renewables.csv', 'w', newline='') as f:\n",
    "    writer = csv.writer(f)\n",
    "    writer.writerow(['country_name','Renewables (% electricity)'])\n",
    "    for i in range(len(df)):\n",
    "        year=int(str(df.iloc[[i],[1]]).split(' ')[-1])\n",
    "        if year == 2017:\n",
    "            country=''.join(str(df.iloc[[i],[0]]).split(' ')[-2:])\n",
    "            #y=float(str(df.iloc[[i],[3]]).split(' ')[-1])\n",
    "            z=float(str(df.iloc[[i],[2]]).split(' ')[-1])\n",
    "            writer.writerow([country,z])\n",
    "        else:\n",
    "            pass"
   ]
  },
  {
   "cell_type": "code",
   "execution_count": null,
   "id": "65bd5a8f",
   "metadata": {},
   "outputs": [],
   "source": [
    "##Eight Indicator "
   ]
  },
  {
   "cell_type": "code",
   "execution_count": 23,
   "id": "4577fe50",
   "metadata": {
    "execution": {
     "iopub.execute_input": "2022-07-29T09:07:35.522930Z",
     "iopub.status.busy": "2022-07-29T09:07:35.522503Z",
     "iopub.status.idle": "2022-07-29T09:07:35.583841Z",
     "shell.execute_reply": "2022-07-29T09:07:35.582124Z"
    },
    "papermill": {
     "duration": 0.094141,
     "end_time": "2022-07-29T09:07:35.587096",
     "exception": false,
     "start_time": "2022-07-29T09:07:35.492955",
     "status": "completed"
    },
    "slideshow": {
     "slide_type": "subslide"
    },
    "tags": []
   },
   "outputs": [
    {
     "name": "stdout",
     "output_type": "stream",
     "text": [
      "(13613, 4)\n"
     ]
    },
    {
     "data": {
      "text/html": [
       "<div>\n",
       "<style scoped>\n",
       "    .dataframe tbody tr th:only-of-type {\n",
       "        vertical-align: middle;\n",
       "    }\n",
       "\n",
       "    .dataframe tbody tr th {\n",
       "        vertical-align: top;\n",
       "    }\n",
       "\n",
       "    .dataframe thead th {\n",
       "        text-align: right;\n",
       "    }\n",
       "</style>\n",
       "<table border=\"1\" class=\"dataframe\">\n",
       "  <thead>\n",
       "    <tr style=\"text-align: right;\">\n",
       "      <th></th>\n",
       "      <th>Entity</th>\n",
       "      <th>Code</th>\n",
       "      <th>Year</th>\n",
       "      <th>Arable land (% of land area)</th>\n",
       "    </tr>\n",
       "  </thead>\n",
       "  <tbody>\n",
       "    <tr>\n",
       "      <th>0</th>\n",
       "      <td>Afghanistan</td>\n",
       "      <td>AFG</td>\n",
       "      <td>1961</td>\n",
       "      <td>11.717673</td>\n",
       "    </tr>\n",
       "    <tr>\n",
       "      <th>1</th>\n",
       "      <td>Afghanistan</td>\n",
       "      <td>AFG</td>\n",
       "      <td>1962</td>\n",
       "      <td>11.794259</td>\n",
       "    </tr>\n",
       "    <tr>\n",
       "      <th>2</th>\n",
       "      <td>Afghanistan</td>\n",
       "      <td>AFG</td>\n",
       "      <td>1963</td>\n",
       "      <td>11.870845</td>\n",
       "    </tr>\n",
       "    <tr>\n",
       "      <th>3</th>\n",
       "      <td>Afghanistan</td>\n",
       "      <td>AFG</td>\n",
       "      <td>1964</td>\n",
       "      <td>11.947431</td>\n",
       "    </tr>\n",
       "    <tr>\n",
       "      <th>4</th>\n",
       "      <td>Afghanistan</td>\n",
       "      <td>AFG</td>\n",
       "      <td>1965</td>\n",
       "      <td>11.947431</td>\n",
       "    </tr>\n",
       "  </tbody>\n",
       "</table>\n",
       "</div>"
      ],
      "text/plain": [
       "        Entity Code  Year  Arable land (% of land area)\n",
       "0  Afghanistan  AFG  1961                     11.717673\n",
       "1  Afghanistan  AFG  1962                     11.794259\n",
       "2  Afghanistan  AFG  1963                     11.870845\n",
       "3  Afghanistan  AFG  1964                     11.947431\n",
       "4  Afghanistan  AFG  1965                     11.947431"
      ]
     },
     "execution_count": 23,
     "metadata": {},
     "output_type": "execute_result"
    }
   ],
   "source": [
    "df=pd.read_csv('../input/analysis-sustainable-development-goal-indicators/share-of-land-area-used-for-arable-agriculture.csv')\n",
    "print(df.shape)\n",
    "df.head()"
   ]
  },
  {
   "cell_type": "code",
   "execution_count": 24,
   "id": "7f8eee22",
   "metadata": {
    "execution": {
     "iopub.execute_input": "2022-07-29T09:07:35.645347Z",
     "iopub.status.busy": "2022-07-29T09:07:35.644914Z",
     "iopub.status.idle": "2022-07-29T09:07:35.663493Z",
     "shell.execute_reply": "2022-07-29T09:07:35.661880Z"
    },
    "papermill": {
     "duration": 0.050721,
     "end_time": "2022-07-29T09:07:35.666199",
     "exception": false,
     "start_time": "2022-07-29T09:07:35.615478",
     "status": "completed"
    },
    "slideshow": {
     "slide_type": "subslide"
    },
    "tags": []
   },
   "outputs": [
    {
     "name": "stdout",
     "output_type": "stream",
     "text": [
      "(13613, 3)\n"
     ]
    },
    {
     "data": {
      "text/html": [
       "<div>\n",
       "<style scoped>\n",
       "    .dataframe tbody tr th:only-of-type {\n",
       "        vertical-align: middle;\n",
       "    }\n",
       "\n",
       "    .dataframe tbody tr th {\n",
       "        vertical-align: top;\n",
       "    }\n",
       "\n",
       "    .dataframe thead th {\n",
       "        text-align: right;\n",
       "    }\n",
       "</style>\n",
       "<table border=\"1\" class=\"dataframe\">\n",
       "  <thead>\n",
       "    <tr style=\"text-align: right;\">\n",
       "      <th></th>\n",
       "      <th>Entity</th>\n",
       "      <th>Year</th>\n",
       "      <th>Arable land (% of land area)</th>\n",
       "    </tr>\n",
       "  </thead>\n",
       "  <tbody>\n",
       "    <tr>\n",
       "      <th>0</th>\n",
       "      <td>Afghanistan</td>\n",
       "      <td>1961</td>\n",
       "      <td>11.717673</td>\n",
       "    </tr>\n",
       "    <tr>\n",
       "      <th>1</th>\n",
       "      <td>Afghanistan</td>\n",
       "      <td>1962</td>\n",
       "      <td>11.794259</td>\n",
       "    </tr>\n",
       "    <tr>\n",
       "      <th>2</th>\n",
       "      <td>Afghanistan</td>\n",
       "      <td>1963</td>\n",
       "      <td>11.870845</td>\n",
       "    </tr>\n",
       "    <tr>\n",
       "      <th>3</th>\n",
       "      <td>Afghanistan</td>\n",
       "      <td>1964</td>\n",
       "      <td>11.947431</td>\n",
       "    </tr>\n",
       "    <tr>\n",
       "      <th>4</th>\n",
       "      <td>Afghanistan</td>\n",
       "      <td>1965</td>\n",
       "      <td>11.947431</td>\n",
       "    </tr>\n",
       "  </tbody>\n",
       "</table>\n",
       "</div>"
      ],
      "text/plain": [
       "        Entity  Year  Arable land (% of land area)\n",
       "0  Afghanistan  1961                     11.717673\n",
       "1  Afghanistan  1962                     11.794259\n",
       "2  Afghanistan  1963                     11.870845\n",
       "3  Afghanistan  1964                     11.947431\n",
       "4  Afghanistan  1965                     11.947431"
      ]
     },
     "execution_count": 24,
     "metadata": {},
     "output_type": "execute_result"
    }
   ],
   "source": [
    "df.drop(['Code'],axis=1,inplace=True)\n",
    "df=df.dropna()\n",
    "print(df.shape)\n",
    "df.head()"
   ]
  },
  {
   "cell_type": "code",
   "execution_count": 25,
   "id": "b895e197",
   "metadata": {
    "execution": {
     "iopub.execute_input": "2022-07-29T09:07:35.724158Z",
     "iopub.status.busy": "2022-07-29T09:07:35.723800Z",
     "iopub.status.idle": "2022-07-29T09:07:53.684384Z",
     "shell.execute_reply": "2022-07-29T09:07:53.682946Z"
    },
    "papermill": {
     "duration": 17.992619,
     "end_time": "2022-07-29T09:07:53.687192",
     "exception": false,
     "start_time": "2022-07-29T09:07:35.694573",
     "status": "completed"
    },
    "slideshow": {
     "slide_type": "subslide"
    },
    "tags": []
   },
   "outputs": [],
   "source": [
    "with open('new-Arable land (% of land area).csv', 'w', newline='') as f:\n",
    "    writer = csv.writer(f)\n",
    "    writer.writerow(['country_name','Arable land (% of land area)'])\n",
    "    for i in range(len(df)):\n",
    "        year=int(str(df.iloc[[i],[1]]).split(' ')[-1])\n",
    "        if year == 2017:\n",
    "            country=''.join(str(df.iloc[[i],[0]]).split(' ')[-2:])\n",
    "            #y=float(str(df.iloc[[i],[3]]).split(' ')[-1])\n",
    "            z=float(str(df.iloc[[i],[2]]).split(' ')[-1])\n",
    "            writer.writerow([country,z])\n",
    "        else:\n",
    "            pass"
   ]
  },
  {
   "cell_type": "code",
   "execution_count": null,
   "id": "7c1d1a23",
   "metadata": {},
   "outputs": [],
   "source": [
    "##Tenth Indicator "
   ]
  },
  {
   "cell_type": "code",
   "execution_count": 26,
   "id": "2fb13e77",
   "metadata": {
    "execution": {
     "iopub.execute_input": "2022-07-29T09:07:53.802096Z",
     "iopub.status.busy": "2022-07-29T09:07:53.801720Z",
     "iopub.status.idle": "2022-07-29T09:07:53.843530Z",
     "shell.execute_reply": "2022-07-29T09:07:53.841686Z"
    },
    "papermill": {
     "duration": 0.075659,
     "end_time": "2022-07-29T09:07:53.846813",
     "exception": false,
     "start_time": "2022-07-29T09:07:53.771154",
     "status": "completed"
    },
    "slideshow": {
     "slide_type": "subslide"
    },
    "tags": []
   },
   "outputs": [
    {
     "name": "stdout",
     "output_type": "stream",
     "text": [
      "(6953, 4)\n"
     ]
    },
    {
     "data": {
      "text/html": [
       "<div>\n",
       "<style scoped>\n",
       "    .dataframe tbody tr th:only-of-type {\n",
       "        vertical-align: middle;\n",
       "    }\n",
       "\n",
       "    .dataframe tbody tr th {\n",
       "        vertical-align: top;\n",
       "    }\n",
       "\n",
       "    .dataframe thead th {\n",
       "        text-align: right;\n",
       "    }\n",
       "</style>\n",
       "<table border=\"1\" class=\"dataframe\">\n",
       "  <thead>\n",
       "    <tr style=\"text-align: right;\">\n",
       "      <th></th>\n",
       "      <th>Entity</th>\n",
       "      <th>Code</th>\n",
       "      <th>Year</th>\n",
       "      <th>$1.90 per day - share of population below poverty line</th>\n",
       "    </tr>\n",
       "  </thead>\n",
       "  <tbody>\n",
       "    <tr>\n",
       "      <th>0</th>\n",
       "      <td>Albania</td>\n",
       "      <td>ALB</td>\n",
       "      <td>1981</td>\n",
       "      <td>0.464528</td>\n",
       "    </tr>\n",
       "    <tr>\n",
       "      <th>1</th>\n",
       "      <td>Albania</td>\n",
       "      <td>ALB</td>\n",
       "      <td>1982</td>\n",
       "      <td>0.407918</td>\n",
       "    </tr>\n",
       "    <tr>\n",
       "      <th>2</th>\n",
       "      <td>Albania</td>\n",
       "      <td>ALB</td>\n",
       "      <td>1983</td>\n",
       "      <td>0.464528</td>\n",
       "    </tr>\n",
       "    <tr>\n",
       "      <th>3</th>\n",
       "      <td>Albania</td>\n",
       "      <td>ALB</td>\n",
       "      <td>1984</td>\n",
       "      <td>0.534846</td>\n",
       "    </tr>\n",
       "    <tr>\n",
       "      <th>4</th>\n",
       "      <td>Albania</td>\n",
       "      <td>ALB</td>\n",
       "      <td>1985</td>\n",
       "      <td>0.534846</td>\n",
       "    </tr>\n",
       "  </tbody>\n",
       "</table>\n",
       "</div>"
      ],
      "text/plain": [
       "    Entity Code  Year  $1.90 per day - share of population below poverty line\n",
       "0  Albania  ALB  1981                                           0.464528     \n",
       "1  Albania  ALB  1982                                           0.407918     \n",
       "2  Albania  ALB  1983                                           0.464528     \n",
       "3  Albania  ALB  1984                                           0.534846     \n",
       "4  Albania  ALB  1985                                           0.534846     "
      ]
     },
     "execution_count": 26,
     "metadata": {},
     "output_type": "execute_result"
    }
   ],
   "source": [
    "df=pd.read_csv('../input/analysis-sustainable-development-goal-indicators/share-of-population-in-extreme-poverty.csv')\n",
    "print(df.shape)\n",
    "df.head()"
   ]
  },
  {
   "cell_type": "code",
   "execution_count": 27,
   "id": "3cc535ea",
   "metadata": {
    "execution": {
     "iopub.execute_input": "2022-07-29T09:07:53.937194Z",
     "iopub.status.busy": "2022-07-29T09:07:53.936198Z",
     "iopub.status.idle": "2022-07-29T09:07:53.975420Z",
     "shell.execute_reply": "2022-07-29T09:07:53.973780Z"
    },
    "papermill": {
     "duration": 0.09621,
     "end_time": "2022-07-29T09:07:53.979386",
     "exception": false,
     "start_time": "2022-07-29T09:07:53.883176",
     "status": "completed"
    },
    "slideshow": {
     "slide_type": "subslide"
    },
    "tags": []
   },
   "outputs": [
    {
     "name": "stdout",
     "output_type": "stream",
     "text": [
      "(6953, 3)\n"
     ]
    },
    {
     "data": {
      "text/html": [
       "<div>\n",
       "<style scoped>\n",
       "    .dataframe tbody tr th:only-of-type {\n",
       "        vertical-align: middle;\n",
       "    }\n",
       "\n",
       "    .dataframe tbody tr th {\n",
       "        vertical-align: top;\n",
       "    }\n",
       "\n",
       "    .dataframe thead th {\n",
       "        text-align: right;\n",
       "    }\n",
       "</style>\n",
       "<table border=\"1\" class=\"dataframe\">\n",
       "  <thead>\n",
       "    <tr style=\"text-align: right;\">\n",
       "      <th></th>\n",
       "      <th>Entity</th>\n",
       "      <th>Year</th>\n",
       "      <th>$1.90 per day - share of population below poverty line</th>\n",
       "    </tr>\n",
       "  </thead>\n",
       "  <tbody>\n",
       "    <tr>\n",
       "      <th>0</th>\n",
       "      <td>Albania</td>\n",
       "      <td>1981</td>\n",
       "      <td>0.464528</td>\n",
       "    </tr>\n",
       "    <tr>\n",
       "      <th>1</th>\n",
       "      <td>Albania</td>\n",
       "      <td>1982</td>\n",
       "      <td>0.407918</td>\n",
       "    </tr>\n",
       "    <tr>\n",
       "      <th>2</th>\n",
       "      <td>Albania</td>\n",
       "      <td>1983</td>\n",
       "      <td>0.464528</td>\n",
       "    </tr>\n",
       "    <tr>\n",
       "      <th>3</th>\n",
       "      <td>Albania</td>\n",
       "      <td>1984</td>\n",
       "      <td>0.534846</td>\n",
       "    </tr>\n",
       "    <tr>\n",
       "      <th>4</th>\n",
       "      <td>Albania</td>\n",
       "      <td>1985</td>\n",
       "      <td>0.534846</td>\n",
       "    </tr>\n",
       "  </tbody>\n",
       "</table>\n",
       "</div>"
      ],
      "text/plain": [
       "    Entity  Year  $1.90 per day - share of population below poverty line\n",
       "0  Albania  1981                                           0.464528     \n",
       "1  Albania  1982                                           0.407918     \n",
       "2  Albania  1983                                           0.464528     \n",
       "3  Albania  1984                                           0.534846     \n",
       "4  Albania  1985                                           0.534846     "
      ]
     },
     "execution_count": 27,
     "metadata": {},
     "output_type": "execute_result"
    }
   ],
   "source": [
    "df.drop(['Code'],axis=1,inplace=True)\n",
    "df=df.dropna()\n",
    "print(df.shape)\n",
    "df.head()"
   ]
  },
  {
   "cell_type": "code",
   "execution_count": 28,
   "id": "7c70fcfb",
   "metadata": {
    "execution": {
     "iopub.execute_input": "2022-07-29T09:07:54.060021Z",
     "iopub.status.busy": "2022-07-29T09:07:54.058798Z",
     "iopub.status.idle": "2022-07-29T09:08:03.431366Z",
     "shell.execute_reply": "2022-07-29T09:08:03.430552Z"
    },
    "papermill": {
     "duration": 9.418973,
     "end_time": "2022-07-29T09:08:03.433916",
     "exception": false,
     "start_time": "2022-07-29T09:07:54.014943",
     "status": "completed"
    },
    "slideshow": {
     "slide_type": "subslide"
    },
    "tags": []
   },
   "outputs": [],
   "source": [
    "with open('new-population below poverty line.csv', 'w', newline='') as f:\n",
    "    writer = csv.writer(f)\n",
    "    writer.writerow(['country_name','population below poverty line'])\n",
    "    for i in range(len(df)):\n",
    "        year=int(str(df.iloc[[i],[1]]).split(' ')[-1])\n",
    "        if year == 2017:\n",
    "            country=''.join(str(df.iloc[[i],[0]]).split(' ')[-2:])\n",
    "            #y=float(str(df.iloc[[i],[3]]).split(' ')[-1])\n",
    "            z=float(''.join(str(df.iloc[[i],[2]]).split(' ')[-6:]))\n",
    "            writer.writerow([country,z])\n",
    "        else:\n",
    "            pass"
   ]
  },
  {
   "cell_type": "code",
   "execution_count": null,
   "id": "2708a309",
   "metadata": {},
   "outputs": [],
   "source": [
    "##Eleventh Indicator "
   ]
  },
  {
   "cell_type": "code",
   "execution_count": 29,
   "id": "2be66c30",
   "metadata": {
    "execution": {
     "iopub.execute_input": "2022-07-29T09:08:03.553626Z",
     "iopub.status.busy": "2022-07-29T09:08:03.552891Z",
     "iopub.status.idle": "2022-07-29T09:08:03.592078Z",
     "shell.execute_reply": "2022-07-29T09:08:03.590621Z"
    },
    "papermill": {
     "duration": 0.072103,
     "end_time": "2022-07-29T09:08:03.594516",
     "exception": false,
     "start_time": "2022-07-29T09:08:03.522413",
     "status": "completed"
    },
    "slideshow": {
     "slide_type": "subslide"
    },
    "tags": []
   },
   "outputs": [
    {
     "name": "stdout",
     "output_type": "stream",
     "text": [
      "(16034, 4)\n"
     ]
    },
    {
     "data": {
      "text/html": [
       "<div>\n",
       "<style scoped>\n",
       "    .dataframe tbody tr th:only-of-type {\n",
       "        vertical-align: middle;\n",
       "    }\n",
       "\n",
       "    .dataframe tbody tr th {\n",
       "        vertical-align: top;\n",
       "    }\n",
       "\n",
       "    .dataframe thead th {\n",
       "        text-align: right;\n",
       "    }\n",
       "</style>\n",
       "<table border=\"1\" class=\"dataframe\">\n",
       "  <thead>\n",
       "    <tr style=\"text-align: right;\">\n",
       "      <th></th>\n",
       "      <th>Entity</th>\n",
       "      <th>Code</th>\n",
       "      <th>Year</th>\n",
       "      <th>Urban population (% of total population)</th>\n",
       "    </tr>\n",
       "  </thead>\n",
       "  <tbody>\n",
       "    <tr>\n",
       "      <th>0</th>\n",
       "      <td>Afghanistan</td>\n",
       "      <td>AFG</td>\n",
       "      <td>1960</td>\n",
       "      <td>8.401</td>\n",
       "    </tr>\n",
       "    <tr>\n",
       "      <th>1</th>\n",
       "      <td>Afghanistan</td>\n",
       "      <td>AFG</td>\n",
       "      <td>1961</td>\n",
       "      <td>8.684</td>\n",
       "    </tr>\n",
       "    <tr>\n",
       "      <th>2</th>\n",
       "      <td>Afghanistan</td>\n",
       "      <td>AFG</td>\n",
       "      <td>1962</td>\n",
       "      <td>8.976</td>\n",
       "    </tr>\n",
       "    <tr>\n",
       "      <th>3</th>\n",
       "      <td>Afghanistan</td>\n",
       "      <td>AFG</td>\n",
       "      <td>1963</td>\n",
       "      <td>9.276</td>\n",
       "    </tr>\n",
       "    <tr>\n",
       "      <th>4</th>\n",
       "      <td>Afghanistan</td>\n",
       "      <td>AFG</td>\n",
       "      <td>1964</td>\n",
       "      <td>9.586</td>\n",
       "    </tr>\n",
       "  </tbody>\n",
       "</table>\n",
       "</div>"
      ],
      "text/plain": [
       "        Entity Code  Year  Urban population (% of total population)\n",
       "0  Afghanistan  AFG  1960                                     8.401\n",
       "1  Afghanistan  AFG  1961                                     8.684\n",
       "2  Afghanistan  AFG  1962                                     8.976\n",
       "3  Afghanistan  AFG  1963                                     9.276\n",
       "4  Afghanistan  AFG  1964                                     9.586"
      ]
     },
     "execution_count": 29,
     "metadata": {},
     "output_type": "execute_result"
    }
   ],
   "source": [
    "df=pd.read_csv('../input/analysis-sustainable-development-goal-indicators/share-of-population-urban (1).csv')\n",
    "print(df.shape)\n",
    "df.head()"
   ]
  },
  {
   "cell_type": "code",
   "execution_count": 30,
   "id": "3645ba8e",
   "metadata": {
    "execution": {
     "iopub.execute_input": "2022-07-29T09:08:03.655355Z",
     "iopub.status.busy": "2022-07-29T09:08:03.654508Z",
     "iopub.status.idle": "2022-07-29T09:08:24.673702Z",
     "shell.execute_reply": "2022-07-29T09:08:24.672605Z"
    },
    "papermill": {
     "duration": 21.052446,
     "end_time": "2022-07-29T09:08:24.676312",
     "exception": false,
     "start_time": "2022-07-29T09:08:03.623866",
     "status": "completed"
    },
    "slideshow": {
     "slide_type": "subslide"
    },
    "tags": []
   },
   "outputs": [],
   "source": [
    "with open('new-share-of-population-urban (1).csv', 'w', newline='') as f:\n",
    "    writer = csv.writer(f)\n",
    "    writer.writerow(['country_name','Year','Urban population (% of total population)'])\n",
    "    for i in range(len(df)):\n",
    "        year=int(str(df.iloc[[i],[2]]).split(' ')[-1])\n",
    "        if year == 2017:\n",
    "            country=''.join(str(df.iloc[[i],[0]]).split(' ')[-2:])\n",
    "            population=float(str(df.iloc[[i],[3]]).split(' ')[-1])\n",
    "            writer.writerow([country,year,population])"
   ]
  },
  {
   "cell_type": "code",
   "execution_count": null,
   "id": "2f5c403d",
   "metadata": {},
   "outputs": [],
   "source": [
    "##Twelfth Indicator "
   ]
  },
  {
   "cell_type": "code",
   "execution_count": 31,
   "id": "7949e99a",
   "metadata": {
    "execution": {
     "iopub.execute_input": "2022-07-29T09:08:24.793211Z",
     "iopub.status.busy": "2022-07-29T09:08:24.792766Z",
     "iopub.status.idle": "2022-07-29T09:08:24.820180Z",
     "shell.execute_reply": "2022-07-29T09:08:24.818894Z"
    },
    "papermill": {
     "duration": 0.059749,
     "end_time": "2022-07-29T09:08:24.822556",
     "exception": false,
     "start_time": "2022-07-29T09:08:24.762807",
     "status": "completed"
    },
    "slideshow": {
     "slide_type": "subslide"
    },
    "tags": []
   },
   "outputs": [
    {
     "name": "stdout",
     "output_type": "stream",
     "text": [
      "(4670, 4)\n"
     ]
    },
    {
     "data": {
      "text/html": [
       "<div>\n",
       "<style scoped>\n",
       "    .dataframe tbody tr th:only-of-type {\n",
       "        vertical-align: middle;\n",
       "    }\n",
       "\n",
       "    .dataframe tbody tr th {\n",
       "        vertical-align: top;\n",
       "    }\n",
       "\n",
       "    .dataframe thead th {\n",
       "        text-align: right;\n",
       "    }\n",
       "</style>\n",
       "<table border=\"1\" class=\"dataframe\">\n",
       "  <thead>\n",
       "    <tr style=\"text-align: right;\">\n",
       "      <th></th>\n",
       "      <th>Entity</th>\n",
       "      <th>Code</th>\n",
       "      <th>Year</th>\n",
       "      <th>Health expenditure, total (% of GDP)</th>\n",
       "    </tr>\n",
       "  </thead>\n",
       "  <tbody>\n",
       "    <tr>\n",
       "      <th>0</th>\n",
       "      <td>Afghanistan</td>\n",
       "      <td>AFG</td>\n",
       "      <td>2002</td>\n",
       "      <td>7.763073</td>\n",
       "    </tr>\n",
       "    <tr>\n",
       "      <th>1</th>\n",
       "      <td>Afghanistan</td>\n",
       "      <td>AFG</td>\n",
       "      <td>2003</td>\n",
       "      <td>8.816053</td>\n",
       "    </tr>\n",
       "    <tr>\n",
       "      <th>2</th>\n",
       "      <td>Afghanistan</td>\n",
       "      <td>AFG</td>\n",
       "      <td>2004</td>\n",
       "      <td>8.786707</td>\n",
       "    </tr>\n",
       "    <tr>\n",
       "      <th>3</th>\n",
       "      <td>Afghanistan</td>\n",
       "      <td>AFG</td>\n",
       "      <td>2005</td>\n",
       "      <td>8.068104</td>\n",
       "    </tr>\n",
       "    <tr>\n",
       "      <th>4</th>\n",
       "      <td>Afghanistan</td>\n",
       "      <td>AFG</td>\n",
       "      <td>2006</td>\n",
       "      <td>7.433972</td>\n",
       "    </tr>\n",
       "  </tbody>\n",
       "</table>\n",
       "</div>"
      ],
      "text/plain": [
       "        Entity Code  Year  Health expenditure, total (% of GDP)\n",
       "0  Afghanistan  AFG  2002                              7.763073\n",
       "1  Afghanistan  AFG  2003                              8.816053\n",
       "2  Afghanistan  AFG  2004                              8.786707\n",
       "3  Afghanistan  AFG  2005                              8.068104\n",
       "4  Afghanistan  AFG  2006                              7.433972"
      ]
     },
     "execution_count": 31,
     "metadata": {},
     "output_type": "execute_result"
    }
   ],
   "source": [
    "df=pd.read_csv('../input/analysis-sustainable-development-goal-indicators/total-healthcare-as-share-of-national-gdp.csv')\n",
    "print(df.shape)\n",
    "df.head()"
   ]
  },
  {
   "cell_type": "code",
   "execution_count": 32,
   "id": "f6c16b85",
   "metadata": {
    "execution": {
     "iopub.execute_input": "2022-07-29T09:08:24.884759Z",
     "iopub.status.busy": "2022-07-29T09:08:24.884023Z",
     "iopub.status.idle": "2022-07-29T09:08:24.901535Z",
     "shell.execute_reply": "2022-07-29T09:08:24.900368Z"
    },
    "papermill": {
     "duration": 0.05064,
     "end_time": "2022-07-29T09:08:24.903696",
     "exception": false,
     "start_time": "2022-07-29T09:08:24.853056",
     "status": "completed"
    },
    "slideshow": {
     "slide_type": "subslide"
    },
    "tags": []
   },
   "outputs": [
    {
     "name": "stdout",
     "output_type": "stream",
     "text": [
      "(4670, 3)\n"
     ]
    },
    {
     "data": {
      "text/html": [
       "<div>\n",
       "<style scoped>\n",
       "    .dataframe tbody tr th:only-of-type {\n",
       "        vertical-align: middle;\n",
       "    }\n",
       "\n",
       "    .dataframe tbody tr th {\n",
       "        vertical-align: top;\n",
       "    }\n",
       "\n",
       "    .dataframe thead th {\n",
       "        text-align: right;\n",
       "    }\n",
       "</style>\n",
       "<table border=\"1\" class=\"dataframe\">\n",
       "  <thead>\n",
       "    <tr style=\"text-align: right;\">\n",
       "      <th></th>\n",
       "      <th>Entity</th>\n",
       "      <th>Year</th>\n",
       "      <th>Health expenditure, total (% of GDP)</th>\n",
       "    </tr>\n",
       "  </thead>\n",
       "  <tbody>\n",
       "    <tr>\n",
       "      <th>0</th>\n",
       "      <td>Afghanistan</td>\n",
       "      <td>2002</td>\n",
       "      <td>7.763073</td>\n",
       "    </tr>\n",
       "    <tr>\n",
       "      <th>1</th>\n",
       "      <td>Afghanistan</td>\n",
       "      <td>2003</td>\n",
       "      <td>8.816053</td>\n",
       "    </tr>\n",
       "    <tr>\n",
       "      <th>2</th>\n",
       "      <td>Afghanistan</td>\n",
       "      <td>2004</td>\n",
       "      <td>8.786707</td>\n",
       "    </tr>\n",
       "    <tr>\n",
       "      <th>3</th>\n",
       "      <td>Afghanistan</td>\n",
       "      <td>2005</td>\n",
       "      <td>8.068104</td>\n",
       "    </tr>\n",
       "    <tr>\n",
       "      <th>4</th>\n",
       "      <td>Afghanistan</td>\n",
       "      <td>2006</td>\n",
       "      <td>7.433972</td>\n",
       "    </tr>\n",
       "  </tbody>\n",
       "</table>\n",
       "</div>"
      ],
      "text/plain": [
       "        Entity  Year  Health expenditure, total (% of GDP)\n",
       "0  Afghanistan  2002                              7.763073\n",
       "1  Afghanistan  2003                              8.816053\n",
       "2  Afghanistan  2004                              8.786707\n",
       "3  Afghanistan  2005                              8.068104\n",
       "4  Afghanistan  2006                              7.433972"
      ]
     },
     "execution_count": 32,
     "metadata": {},
     "output_type": "execute_result"
    }
   ],
   "source": [
    "df.drop(['Code'],axis=1,inplace=True)\n",
    "df=df.dropna()\n",
    "print(df.shape)\n",
    "df.head()"
   ]
  },
  {
   "cell_type": "code",
   "execution_count": 33,
   "id": "77b08f35",
   "metadata": {
    "execution": {
     "iopub.execute_input": "2022-07-29T09:08:24.965968Z",
     "iopub.status.busy": "2022-07-29T09:08:24.965597Z",
     "iopub.status.idle": "2022-07-29T09:08:31.761882Z",
     "shell.execute_reply": "2022-07-29T09:08:31.760863Z"
    },
    "papermill": {
     "duration": 6.830705,
     "end_time": "2022-07-29T09:08:31.764433",
     "exception": false,
     "start_time": "2022-07-29T09:08:24.933728",
     "status": "completed"
    },
    "slideshow": {
     "slide_type": "subslide"
    },
    "tags": []
   },
   "outputs": [],
   "source": [
    "with open('new-Health expenditure.csv', 'w', newline='') as f:\n",
    "    writer = csv.writer(f)\n",
    "    writer.writerow(['country_name','Health expenditure, total (% of GDP)'])\n",
    "    for i in range(len(df)):\n",
    "        year=int(str(df.iloc[[i],[1]]).split(' ')[-1])\n",
    "        if year == 2014:\n",
    "            country=''.join(str(df.iloc[[i],[0]]).split(' ')[-2:])\n",
    "            #y=float(str(df.iloc[[i],[3]]).split(' ')[-1])\n",
    "            z=float(str(df.iloc[[i],[2]]).split(' ')[-1])\n",
    "            writer.writerow([country,z])\n",
    "        else:\n",
    "            pass"
   ]
  },
  {
   "cell_type": "code",
   "execution_count": null,
   "id": "12abd536",
   "metadata": {},
   "outputs": [],
   "source": [
    "##Thirteenth Indicator "
   ]
  },
  {
   "cell_type": "code",
   "execution_count": 34,
   "id": "abdf6c46",
   "metadata": {
    "execution": {
     "iopub.execute_input": "2022-07-29T09:08:31.889341Z",
     "iopub.status.busy": "2022-07-29T09:08:31.888358Z",
     "iopub.status.idle": "2022-07-29T09:08:31.913805Z",
     "shell.execute_reply": "2022-07-29T09:08:31.912172Z"
    },
    "papermill": {
     "duration": 0.062651,
     "end_time": "2022-07-29T09:08:31.916710",
     "exception": false,
     "start_time": "2022-07-29T09:08:31.854059",
     "status": "completed"
    },
    "slideshow": {
     "slide_type": "subslide"
    },
    "tags": []
   },
   "outputs": [
    {
     "name": "stdout",
     "output_type": "stream",
     "text": [
      "(640, 4)\n"
     ]
    },
    {
     "data": {
      "text/html": [
       "<div>\n",
       "<style scoped>\n",
       "    .dataframe tbody tr th:only-of-type {\n",
       "        vertical-align: middle;\n",
       "    }\n",
       "\n",
       "    .dataframe tbody tr th {\n",
       "        vertical-align: top;\n",
       "    }\n",
       "\n",
       "    .dataframe thead th {\n",
       "        text-align: right;\n",
       "    }\n",
       "</style>\n",
       "<table border=\"1\" class=\"dataframe\">\n",
       "  <thead>\n",
       "    <tr style=\"text-align: right;\">\n",
       "      <th></th>\n",
       "      <th>Entity</th>\n",
       "      <th>Code</th>\n",
       "      <th>Year</th>\n",
       "      <th>Total water withdrawal per capita</th>\n",
       "    </tr>\n",
       "  </thead>\n",
       "  <tbody>\n",
       "    <tr>\n",
       "      <th>0</th>\n",
       "      <td>Afghanistan</td>\n",
       "      <td>AFG</td>\n",
       "      <td>1975</td>\n",
       "      <td>819.5</td>\n",
       "    </tr>\n",
       "    <tr>\n",
       "      <th>1</th>\n",
       "      <td>Afghanistan</td>\n",
       "      <td>AFG</td>\n",
       "      <td>1985</td>\n",
       "      <td>2303.0</td>\n",
       "    </tr>\n",
       "    <tr>\n",
       "      <th>2</th>\n",
       "      <td>Afghanistan</td>\n",
       "      <td>AFG</td>\n",
       "      <td>2000</td>\n",
       "      <td>943.8</td>\n",
       "    </tr>\n",
       "    <tr>\n",
       "      <th>3</th>\n",
       "      <td>Albania</td>\n",
       "      <td>ALB</td>\n",
       "      <td>1990</td>\n",
       "      <td>370.3</td>\n",
       "    </tr>\n",
       "    <tr>\n",
       "      <th>4</th>\n",
       "      <td>Albania</td>\n",
       "      <td>ALB</td>\n",
       "      <td>2000</td>\n",
       "      <td>588.5</td>\n",
       "    </tr>\n",
       "  </tbody>\n",
       "</table>\n",
       "</div>"
      ],
      "text/plain": [
       "        Entity Code  Year  Total water withdrawal per capita\n",
       "0  Afghanistan  AFG  1975                              819.5\n",
       "1  Afghanistan  AFG  1985                             2303.0\n",
       "2  Afghanistan  AFG  2000                              943.8\n",
       "3      Albania  ALB  1990                              370.3\n",
       "4      Albania  ALB  2000                              588.5"
      ]
     },
     "execution_count": 34,
     "metadata": {},
     "output_type": "execute_result"
    }
   ],
   "source": [
    "df=pd.read_csv('../input/analysis-sustainable-development-goal-indicators/water-withdrawals-per-capita.csv')\n",
    "print(df.shape)\n",
    "df.head()"
   ]
  },
  {
   "cell_type": "code",
   "execution_count": 35,
   "id": "2ec3a04c",
   "metadata": {
    "execution": {
     "iopub.execute_input": "2022-07-29T09:08:31.980450Z",
     "iopub.status.busy": "2022-07-29T09:08:31.979268Z",
     "iopub.status.idle": "2022-07-29T09:08:31.998040Z",
     "shell.execute_reply": "2022-07-29T09:08:31.996858Z"
    },
    "papermill": {
     "duration": 0.052692,
     "end_time": "2022-07-29T09:08:32.000543",
     "exception": false,
     "start_time": "2022-07-29T09:08:31.947851",
     "status": "completed"
    },
    "slideshow": {
     "slide_type": "subslide"
    },
    "tags": []
   },
   "outputs": [
    {
     "name": "stdout",
     "output_type": "stream",
     "text": [
      "(640, 3)\n"
     ]
    },
    {
     "data": {
      "text/html": [
       "<div>\n",
       "<style scoped>\n",
       "    .dataframe tbody tr th:only-of-type {\n",
       "        vertical-align: middle;\n",
       "    }\n",
       "\n",
       "    .dataframe tbody tr th {\n",
       "        vertical-align: top;\n",
       "    }\n",
       "\n",
       "    .dataframe thead th {\n",
       "        text-align: right;\n",
       "    }\n",
       "</style>\n",
       "<table border=\"1\" class=\"dataframe\">\n",
       "  <thead>\n",
       "    <tr style=\"text-align: right;\">\n",
       "      <th></th>\n",
       "      <th>Entity</th>\n",
       "      <th>Year</th>\n",
       "      <th>Total water withdrawal per capita</th>\n",
       "    </tr>\n",
       "  </thead>\n",
       "  <tbody>\n",
       "    <tr>\n",
       "      <th>0</th>\n",
       "      <td>Afghanistan</td>\n",
       "      <td>1975</td>\n",
       "      <td>819.5</td>\n",
       "    </tr>\n",
       "    <tr>\n",
       "      <th>1</th>\n",
       "      <td>Afghanistan</td>\n",
       "      <td>1985</td>\n",
       "      <td>2303.0</td>\n",
       "    </tr>\n",
       "    <tr>\n",
       "      <th>2</th>\n",
       "      <td>Afghanistan</td>\n",
       "      <td>2000</td>\n",
       "      <td>943.8</td>\n",
       "    </tr>\n",
       "    <tr>\n",
       "      <th>3</th>\n",
       "      <td>Albania</td>\n",
       "      <td>1990</td>\n",
       "      <td>370.3</td>\n",
       "    </tr>\n",
       "    <tr>\n",
       "      <th>4</th>\n",
       "      <td>Albania</td>\n",
       "      <td>2000</td>\n",
       "      <td>588.5</td>\n",
       "    </tr>\n",
       "  </tbody>\n",
       "</table>\n",
       "</div>"
      ],
      "text/plain": [
       "        Entity  Year  Total water withdrawal per capita\n",
       "0  Afghanistan  1975                              819.5\n",
       "1  Afghanistan  1985                             2303.0\n",
       "2  Afghanistan  2000                              943.8\n",
       "3      Albania  1990                              370.3\n",
       "4      Albania  2000                              588.5"
      ]
     },
     "execution_count": 35,
     "metadata": {},
     "output_type": "execute_result"
    }
   ],
   "source": [
    "df.drop(['Code'],axis=1,inplace=True)\n",
    "df=df.dropna()\n",
    "print(df.shape)\n",
    "df.head()"
   ]
  },
  {
   "cell_type": "code",
   "execution_count": 36,
   "id": "2265eb5c",
   "metadata": {
    "execution": {
     "iopub.execute_input": "2022-07-29T09:08:32.064653Z",
     "iopub.status.busy": "2022-07-29T09:08:32.063978Z",
     "iopub.status.idle": "2022-07-29T09:08:33.228262Z",
     "shell.execute_reply": "2022-07-29T09:08:33.227396Z"
    },
    "papermill": {
     "duration": 1.199186,
     "end_time": "2022-07-29T09:08:33.230917",
     "exception": false,
     "start_time": "2022-07-29T09:08:32.031731",
     "status": "completed"
    },
    "slideshow": {
     "slide_type": "subslide"
    },
    "tags": []
   },
   "outputs": [],
   "source": [
    "with open('new-Total water withdrawal per capita.csv', 'w', newline='') as f:\n",
    "    writer = csv.writer(f)\n",
    "    writer.writerow(['country_name','Total water withdrawal per capita'])\n",
    "    for i in range(len(df)):\n",
    "        year=int(str(df.iloc[[i],[1]]).split(' ')[-1])\n",
    "        if year == 2000:\n",
    "            country=''.join(str(df.iloc[[i],[0]]).split(' ')[-2:])\n",
    "            #y=float(str(df.iloc[[i],[3]]).split(' ')[-1])\n",
    "            z=float(str(df.iloc[[i],[2]]).split(' ')[-1])\n",
    "            writer.writerow([country,z])\n",
    "        else:\n",
    "            pass"
   ]
  },
  {
   "cell_type": "code",
   "execution_count": 38,
   "id": "9b69531b",
   "metadata": {
    "execution": {
     "iopub.execute_input": "2022-07-29T09:08:33.428418Z",
     "iopub.status.busy": "2022-07-29T09:08:33.427771Z",
     "iopub.status.idle": "2022-07-29T09:08:33.503762Z",
     "shell.execute_reply": "2022-07-29T09:08:33.502527Z"
    },
    "papermill": {
     "duration": 0.110446,
     "end_time": "2022-07-29T09:08:33.506335",
     "exception": false,
     "start_time": "2022-07-29T09:08:33.395889",
     "status": "completed"
    },
    "slideshow": {
     "slide_type": "subslide"
    },
    "tags": []
   },
   "outputs": [
    {
     "name": "stdout",
     "output_type": "stream",
     "text": [
      "(289, 30)\n"
     ]
    },
    {
     "data": {
      "text/html": [
       "<div>\n",
       "<style scoped>\n",
       "    .dataframe tbody tr th:only-of-type {\n",
       "        vertical-align: middle;\n",
       "    }\n",
       "\n",
       "    .dataframe tbody tr th {\n",
       "        vertical-align: top;\n",
       "    }\n",
       "\n",
       "    .dataframe thead th {\n",
       "        text-align: right;\n",
       "    }\n",
       "</style>\n",
       "<table border=\"1\" class=\"dataframe\">\n",
       "  <thead>\n",
       "    <tr style=\"text-align: right;\">\n",
       "      <th></th>\n",
       "      <th>Unnamed: 0</th>\n",
       "      <th>country_name</th>\n",
       "      <th>Arable land (hectares per person)</th>\n",
       "      <th>country_name.1</th>\n",
       "      <th>Deaths - Unsafe water source</th>\n",
       "      <th>country_name.2</th>\n",
       "      <th>Health expenditure, total (% of GDP)</th>\n",
       "      <th>country_name.3</th>\n",
       "      <th>Year</th>\n",
       "      <th>Urban population (% of total population)</th>\n",
       "      <th>...</th>\n",
       "      <th>country_name.8</th>\n",
       "      <th>country_code</th>\n",
       "      <th>Government Expenditure (IMF based on Mauro et al. (2015))</th>\n",
       "      <th>GDP per capita, PPP (constant 2017 international $)</th>\n",
       "      <th>country_name.9</th>\n",
       "      <th>population below poverty line</th>\n",
       "      <th>country_name.10</th>\n",
       "      <th>undernourishment_prevalence</th>\n",
       "      <th>country_name.11</th>\n",
       "      <th>Arable land (% of land area)</th>\n",
       "    </tr>\n",
       "  </thead>\n",
       "  <tbody>\n",
       "    <tr>\n",
       "      <th>0</th>\n",
       "      <td>0</td>\n",
       "      <td>Afghanistan</td>\n",
       "      <td>0.212116</td>\n",
       "      <td>Afghanistan</td>\n",
       "      <td>9.993769</td>\n",
       "      <td>Afghanistan</td>\n",
       "      <td>8.182274</td>\n",
       "      <td>Afghanistan</td>\n",
       "      <td>2017.0</td>\n",
       "      <td>25.250000</td>\n",
       "      <td>...</td>\n",
       "      <td>Afghanistan</td>\n",
       "      <td>AFG</td>\n",
       "      <td>21.991904</td>\n",
       "      <td>1460.825751</td>\n",
       "      <td>Albania</td>\n",
       "      <td>1.266547</td>\n",
       "      <td>Afghanistan</td>\n",
       "      <td>28.9</td>\n",
       "      <td>Afghanistan</td>\n",
       "      <td>11.792727</td>\n",
       "    </tr>\n",
       "    <tr>\n",
       "      <th>1</th>\n",
       "      <td>1</td>\n",
       "      <td>andSouthern</td>\n",
       "      <td>0.189571</td>\n",
       "      <td>Albania</td>\n",
       "      <td>0.150238</td>\n",
       "      <td>Albania</td>\n",
       "      <td>5.883105</td>\n",
       "      <td>andSouthern</td>\n",
       "      <td>2017.0</td>\n",
       "      <td>35.332373</td>\n",
       "      <td>...</td>\n",
       "      <td>Albania</td>\n",
       "      <td>ALB</td>\n",
       "      <td>31.922866</td>\n",
       "      <td>9150.518747</td>\n",
       "      <td>Algeria</td>\n",
       "      <td>0.329316</td>\n",
       "      <td>Africa</td>\n",
       "      <td>18.6</td>\n",
       "      <td>andSouthern</td>\n",
       "      <td>8.231181</td>\n",
       "    </tr>\n",
       "    <tr>\n",
       "      <th>2</th>\n",
       "      <td>2</td>\n",
       "      <td>andCentral</td>\n",
       "      <td>0.239588</td>\n",
       "      <td>Algeria</td>\n",
       "      <td>0.549123</td>\n",
       "      <td>Algeria</td>\n",
       "      <td>7.207178</td>\n",
       "      <td>andCentral</td>\n",
       "      <td>2017.0</td>\n",
       "      <td>46.019334</td>\n",
       "      <td>...</td>\n",
       "      <td>Algeria</td>\n",
       "      <td>DZA</td>\n",
       "      <td>34.155843</td>\n",
       "      <td>10717.784464</td>\n",
       "      <td>Angola</td>\n",
       "      <td>45.069260</td>\n",
       "      <td>Albania</td>\n",
       "      <td>3.9</td>\n",
       "      <td>andCentral</td>\n",
       "      <td>11.224018</td>\n",
       "    </tr>\n",
       "    <tr>\n",
       "      <th>3</th>\n",
       "      <td>3</td>\n",
       "      <td>Albania</td>\n",
       "      <td>0.211209</td>\n",
       "      <td>AmericanSamoa</td>\n",
       "      <td>2.465869</td>\n",
       "      <td>Andorra</td>\n",
       "      <td>8.127136</td>\n",
       "      <td>Albania</td>\n",
       "      <td>2017.0</td>\n",
       "      <td>59.383000</td>\n",
       "      <td>...</td>\n",
       "      <td>Angola</td>\n",
       "      <td>AGO</td>\n",
       "      <td>42.324461</td>\n",
       "      <td>7341.865199</td>\n",
       "      <td>Argentina(Urban)</td>\n",
       "      <td>0.928490</td>\n",
       "      <td>Algeria</td>\n",
       "      <td>3.1</td>\n",
       "      <td>Albania</td>\n",
       "      <td>22.149635</td>\n",
       "    </tr>\n",
       "    <tr>\n",
       "      <th>4</th>\n",
       "      <td>4</td>\n",
       "      <td>Algeria</td>\n",
       "      <td>0.180501</td>\n",
       "      <td>LatinAmerica</td>\n",
       "      <td>2.163197</td>\n",
       "      <td>Angola</td>\n",
       "      <td>3.306983</td>\n",
       "      <td>Algeria</td>\n",
       "      <td>2017.0</td>\n",
       "      <td>72.052000</td>\n",
       "      <td>...</td>\n",
       "      <td>Argentina</td>\n",
       "      <td>ARG</td>\n",
       "      <td>38.141860</td>\n",
       "      <td>22424.117729</td>\n",
       "      <td>Armenia</td>\n",
       "      <td>0.880793</td>\n",
       "      <td>Angola</td>\n",
       "      <td>19.4</td>\n",
       "      <td>Algeria</td>\n",
       "      <td>3.136700</td>\n",
       "    </tr>\n",
       "  </tbody>\n",
       "</table>\n",
       "<p>5 rows × 30 columns</p>\n",
       "</div>"
      ],
      "text/plain": [
       "   Unnamed: 0 country_name  Arable land (hectares per person) country_name.1  \\\n",
       "0           0  Afghanistan                           0.212116    Afghanistan   \n",
       "1           1  andSouthern                           0.189571        Albania   \n",
       "2           2   andCentral                           0.239588        Algeria   \n",
       "3           3      Albania                           0.211209  AmericanSamoa   \n",
       "4           4      Algeria                           0.180501   LatinAmerica   \n",
       "\n",
       "   Deaths - Unsafe water source country_name.2  \\\n",
       "0                      9.993769    Afghanistan   \n",
       "1                      0.150238        Albania   \n",
       "2                      0.549123        Algeria   \n",
       "3                      2.465869        Andorra   \n",
       "4                      2.163197         Angola   \n",
       "\n",
       "   Health expenditure, total (% of GDP) country_name.3    Year  \\\n",
       "0                              8.182274    Afghanistan  2017.0   \n",
       "1                              5.883105    andSouthern  2017.0   \n",
       "2                              7.207178     andCentral  2017.0   \n",
       "3                              8.127136        Albania  2017.0   \n",
       "4                              3.306983        Algeria  2017.0   \n",
       "\n",
       "   Urban population (% of total population)  ... country_name.8  country_code  \\\n",
       "0                                 25.250000  ...    Afghanistan           AFG   \n",
       "1                                 35.332373  ...        Albania           ALB   \n",
       "2                                 46.019334  ...        Algeria           DZA   \n",
       "3                                 59.383000  ...         Angola           AGO   \n",
       "4                                 72.052000  ...      Argentina           ARG   \n",
       "\n",
       "   Government Expenditure (IMF based on Mauro et al. (2015))  \\\n",
       "0                                          21.991904           \n",
       "1                                          31.922866           \n",
       "2                                          34.155843           \n",
       "3                                          42.324461           \n",
       "4                                          38.141860           \n",
       "\n",
       "  GDP per capita, PPP (constant 2017 international $)    country_name.9  \\\n",
       "0                                        1460.825751            Albania   \n",
       "1                                        9150.518747            Algeria   \n",
       "2                                       10717.784464             Angola   \n",
       "3                                        7341.865199   Argentina(Urban)   \n",
       "4                                       22424.117729            Armenia   \n",
       "\n",
       "   population below poverty line country_name.10  undernourishment_prevalence  \\\n",
       "0                       1.266547     Afghanistan                         28.9   \n",
       "1                       0.329316          Africa                         18.6   \n",
       "2                      45.069260         Albania                          3.9   \n",
       "3                       0.928490         Algeria                          3.1   \n",
       "4                       0.880793          Angola                         19.4   \n",
       "\n",
       "  country_name.11  Arable land (% of land area)  \n",
       "0     Afghanistan                     11.792727  \n",
       "1     andSouthern                      8.231181  \n",
       "2      andCentral                     11.224018  \n",
       "3         Albania                     22.149635  \n",
       "4         Algeria                      3.136700  \n",
       "\n",
       "[5 rows x 30 columns]"
      ]
     },
     "execution_count": 38,
     "metadata": {},
     "output_type": "execute_result"
    }
   ],
   "source": [
    "all_files = glob.glob(path + \"/*.csv\")\n",
    "df_from_each_file = (pd.read_csv(f, sep=',') for f in all_files)\n",
    "df_merged = pd.concat(df_from_each_file, axis=1)\n",
    "df_merged.to_csv( \"sustainable_devlopment_goals.csv\")\n",
    "df2= pd.read_csv(\"sustainable_devlopment_goals.csv\")\n",
    "print(df2.shape)\n",
    "df2.head()"
   ]
  },
  {
   "cell_type": "code",
   "execution_count": null,
   "id": "e3f3abe7",
   "metadata": {},
   "outputs": [],
   "source": [
    "#Merge"
   ]
  },
  {
   "cell_type": "code",
   "execution_count": 40,
   "id": "8dddb405",
   "metadata": {
    "execution": {
     "iopub.execute_input": "2022-07-29T09:08:33.705659Z",
     "iopub.status.busy": "2022-07-29T09:08:33.704938Z",
     "iopub.status.idle": "2022-07-29T09:08:34.163796Z",
     "shell.execute_reply": "2022-07-29T09:08:34.162572Z"
    },
    "papermill": {
     "duration": 0.494629,
     "end_time": "2022-07-29T09:08:34.166570",
     "exception": false,
     "start_time": "2022-07-29T09:08:33.671941",
     "status": "completed"
    },
    "scrolled": true,
    "slideshow": {
     "slide_type": "subslide"
    },
    "tags": []
   },
   "outputs": [
    {
     "data": {
      "text/html": [
       "<div>\n",
       "<style scoped>\n",
       "    .dataframe tbody tr th:only-of-type {\n",
       "        vertical-align: middle;\n",
       "    }\n",
       "\n",
       "    .dataframe tbody tr th {\n",
       "        vertical-align: top;\n",
       "    }\n",
       "\n",
       "    .dataframe thead th {\n",
       "        text-align: right;\n",
       "    }\n",
       "</style>\n",
       "<table border=\"1\" class=\"dataframe\">\n",
       "  <thead>\n",
       "    <tr style=\"text-align: right;\">\n",
       "      <th></th>\n",
       "      <th>Unnamed: 0</th>\n",
       "      <th>Unnamed: 0_x</th>\n",
       "      <th>Unnamed: 0_x_x</th>\n",
       "      <th>country_name</th>\n",
       "      <th>Deaths - Unsafe water source</th>\n",
       "      <th>Human Development Index - undp_hdi</th>\n",
       "      <th>Population (historical estimates)</th>\n",
       "      <th>Unnamed: 0_y_x</th>\n",
       "      <th>Total water withdrawal per capita</th>\n",
       "      <th>Health expenditure, total (% of GDP)</th>\n",
       "      <th>...</th>\n",
       "      <th>Unnamed: 0_y_y</th>\n",
       "      <th>Unnamed: 0_x_y.1</th>\n",
       "      <th>Year</th>\n",
       "      <th>Urban population (% of total population)</th>\n",
       "      <th>Arable land (% of land area)</th>\n",
       "      <th>Unnamed: 0_y_y.1</th>\n",
       "      <th>undernourishment_prevalence</th>\n",
       "      <th>country_code</th>\n",
       "      <th>Government Expenditure (IMF based on Mauro et al. (2015))</th>\n",
       "      <th>GDP per capita, PPP (constant 2017 international $)</th>\n",
       "    </tr>\n",
       "  </thead>\n",
       "  <tbody>\n",
       "    <tr>\n",
       "      <th>0</th>\n",
       "      <td>0</td>\n",
       "      <td>0.0</td>\n",
       "      <td>0.0</td>\n",
       "      <td>Afghanistan</td>\n",
       "      <td>9.993769</td>\n",
       "      <td>0.447722</td>\n",
       "      <td>29185511.0</td>\n",
       "      <td>0.0</td>\n",
       "      <td>943.8</td>\n",
       "      <td>8.182274</td>\n",
       "      <td>...</td>\n",
       "      <td>0.0</td>\n",
       "      <td>0.0</td>\n",
       "      <td>2017.0</td>\n",
       "      <td>25.250</td>\n",
       "      <td>11.792727</td>\n",
       "      <td>0.0</td>\n",
       "      <td>28.9</td>\n",
       "      <td>AFG</td>\n",
       "      <td>21.991904</td>\n",
       "      <td>1460.825751</td>\n",
       "    </tr>\n",
       "    <tr>\n",
       "      <th>1</th>\n",
       "      <td>1</td>\n",
       "      <td>1.0</td>\n",
       "      <td>1.0</td>\n",
       "      <td>Albania</td>\n",
       "      <td>0.150238</td>\n",
       "      <td>0.722489</td>\n",
       "      <td>2948029.0</td>\n",
       "      <td>1.0</td>\n",
       "      <td>588.5</td>\n",
       "      <td>5.883105</td>\n",
       "      <td>...</td>\n",
       "      <td>3.0</td>\n",
       "      <td>3.0</td>\n",
       "      <td>2017.0</td>\n",
       "      <td>59.383</td>\n",
       "      <td>22.149635</td>\n",
       "      <td>2.0</td>\n",
       "      <td>3.9</td>\n",
       "      <td>ALB</td>\n",
       "      <td>31.922866</td>\n",
       "      <td>9150.518747</td>\n",
       "    </tr>\n",
       "    <tr>\n",
       "      <th>2</th>\n",
       "      <td>2</td>\n",
       "      <td>2.0</td>\n",
       "      <td>2.0</td>\n",
       "      <td>Algeria</td>\n",
       "      <td>0.549123</td>\n",
       "      <td>0.725421</td>\n",
       "      <td>35977451.0</td>\n",
       "      <td>2.0</td>\n",
       "      <td>178.9</td>\n",
       "      <td>7.207178</td>\n",
       "      <td>...</td>\n",
       "      <td>4.0</td>\n",
       "      <td>4.0</td>\n",
       "      <td>2017.0</td>\n",
       "      <td>72.052</td>\n",
       "      <td>3.136700</td>\n",
       "      <td>3.0</td>\n",
       "      <td>3.1</td>\n",
       "      <td>DZA</td>\n",
       "      <td>34.155843</td>\n",
       "      <td>10717.784464</td>\n",
       "    </tr>\n",
       "    <tr>\n",
       "      <th>3</th>\n",
       "      <td>3</td>\n",
       "      <td>3.0</td>\n",
       "      <td>3.0</td>\n",
       "      <td>AmericanSamoa</td>\n",
       "      <td>2.465869</td>\n",
       "      <td>NaN</td>\n",
       "      <td>NaN</td>\n",
       "      <td>NaN</td>\n",
       "      <td>NaN</td>\n",
       "      <td>NaN</td>\n",
       "      <td>...</td>\n",
       "      <td>5.0</td>\n",
       "      <td>5.0</td>\n",
       "      <td>2017.0</td>\n",
       "      <td>87.170</td>\n",
       "      <td>15.000000</td>\n",
       "      <td>NaN</td>\n",
       "      <td>NaN</td>\n",
       "      <td>NaN</td>\n",
       "      <td>NaN</td>\n",
       "      <td>NaN</td>\n",
       "    </tr>\n",
       "    <tr>\n",
       "      <th>4</th>\n",
       "      <td>4</td>\n",
       "      <td>4.0</td>\n",
       "      <td>4.0</td>\n",
       "      <td>LatinAmerica</td>\n",
       "      <td>2.163197</td>\n",
       "      <td>NaN</td>\n",
       "      <td>NaN</td>\n",
       "      <td>NaN</td>\n",
       "      <td>NaN</td>\n",
       "      <td>NaN</td>\n",
       "      <td>...</td>\n",
       "      <td>NaN</td>\n",
       "      <td>NaN</td>\n",
       "      <td>NaN</td>\n",
       "      <td>NaN</td>\n",
       "      <td>NaN</td>\n",
       "      <td>NaN</td>\n",
       "      <td>NaN</td>\n",
       "      <td>NaN</td>\n",
       "      <td>NaN</td>\n",
       "      <td>NaN</td>\n",
       "    </tr>\n",
       "  </tbody>\n",
       "</table>\n",
       "<p>5 rows × 29 columns</p>\n",
       "</div>"
      ],
      "text/plain": [
       "   Unnamed: 0  Unnamed: 0_x  Unnamed: 0_x_x   country_name  \\\n",
       "0           0           0.0             0.0    Afghanistan   \n",
       "1           1           1.0             1.0        Albania   \n",
       "2           2           2.0             2.0        Algeria   \n",
       "3           3           3.0             3.0  AmericanSamoa   \n",
       "4           4           4.0             4.0   LatinAmerica   \n",
       "\n",
       "   Deaths - Unsafe water source  Human Development Index - undp_hdi  \\\n",
       "0                      9.993769                            0.447722   \n",
       "1                      0.150238                            0.722489   \n",
       "2                      0.549123                            0.725421   \n",
       "3                      2.465869                                 NaN   \n",
       "4                      2.163197                                 NaN   \n",
       "\n",
       "   Population (historical estimates)  Unnamed: 0_y_x  \\\n",
       "0                         29185511.0             0.0   \n",
       "1                          2948029.0             1.0   \n",
       "2                         35977451.0             2.0   \n",
       "3                                NaN             NaN   \n",
       "4                                NaN             NaN   \n",
       "\n",
       "   Total water withdrawal per capita  Health expenditure, total (% of GDP)  \\\n",
       "0                              943.8                              8.182274   \n",
       "1                              588.5                              5.883105   \n",
       "2                              178.9                              7.207178   \n",
       "3                                NaN                                   NaN   \n",
       "4                                NaN                                   NaN   \n",
       "\n",
       "   ...  Unnamed: 0_y_y  Unnamed: 0_x_y.1    Year  \\\n",
       "0  ...             0.0               0.0  2017.0   \n",
       "1  ...             3.0               3.0  2017.0   \n",
       "2  ...             4.0               4.0  2017.0   \n",
       "3  ...             5.0               5.0  2017.0   \n",
       "4  ...             NaN               NaN     NaN   \n",
       "\n",
       "   Urban population (% of total population)  Arable land (% of land area)  \\\n",
       "0                                    25.250                     11.792727   \n",
       "1                                    59.383                     22.149635   \n",
       "2                                    72.052                      3.136700   \n",
       "3                                    87.170                     15.000000   \n",
       "4                                       NaN                           NaN   \n",
       "\n",
       "   Unnamed: 0_y_y.1  undernourishment_prevalence  country_code  \\\n",
       "0               0.0                         28.9           AFG   \n",
       "1               2.0                          3.9           ALB   \n",
       "2               3.0                          3.1           DZA   \n",
       "3               NaN                          NaN           NaN   \n",
       "4               NaN                          NaN           NaN   \n",
       "\n",
       "   Government Expenditure (IMF based on Mauro et al. (2015))  \\\n",
       "0                                          21.991904           \n",
       "1                                          31.922866           \n",
       "2                                          34.155843           \n",
       "3                                                NaN           \n",
       "4                                                NaN           \n",
       "\n",
       "   GDP per capita, PPP (constant 2017 international $)  \n",
       "0                                        1460.825751    \n",
       "1                                        9150.518747    \n",
       "2                                       10717.784464    \n",
       "3                                                NaN    \n",
       "4                                                NaN    \n",
       "\n",
       "[5 rows x 29 columns]"
      ]
     },
     "execution_count": 40,
     "metadata": {},
     "output_type": "execute_result"
    }
   ],
   "source": [
    "df1=pd.read_csv('./new-Renewables.csv')\n",
    "df2=pd.read_csv('./new-Gender wage gap.csv')\n",
    "df3=pd.read_csv('./new-population below poverty line.csv')\n",
    "df4=pd.read_csv('./new-Arable-land-use-per-person.csv')\n",
    "df5=pd.read_csv('./new-share-of-population-urban (1).csv')\n",
    "df6=pd.read_csv('./new-Arable land (% of land area).csv')\n",
    "df7=pd.read_csv('./new-undernourishment.csv')\n",
    "df8=pd.read_csv('./new-country-level-government-spending-vs-income.csv')\n",
    "df9=pd.read_csv('./new-Deaths - Unsafe water source.csv')\n",
    "df10=pd.read_csv('./new-human Development Index.csv')\n",
    "df11=pd.read_csv('./new-Total water withdrawal per capita.csv')\n",
    "df12=pd.read_csv('./new-Health expenditure.csv')\n",
    "df_merged   = pd.merge(df1,df2,how='outer',right_on='country_name',left_on='country_name')\n",
    "df_merged.to_csv( \"merge1.csv\")\n",
    "df_merged   = pd.merge(df3,df4,how='outer',right_on='country_name',left_on='country_name')\n",
    "df_merged.to_csv( \"merge2.csv\")\n",
    "df_merged   = pd.merge(df5,df6,how='outer',right_on='country_name',left_on='country_name')\n",
    "df_merged.to_csv( \"merge3.csv\")\n",
    "df_merged   = pd.merge(df7,df8,how='outer',right_on='country_name',left_on='country_name')\n",
    "df_merged.to_csv( \"merge4.csv\")\n",
    "df_merged   = pd.merge(df9,df10,how='outer',right_on='country_name',left_on='country_name')\n",
    "df_merged.to_csv( \"merge5.csv\")\n",
    "df_merged   = pd.merge(df11,df12,how='outer',right_on='country_name',left_on='country_name')\n",
    "df_merged.to_csv( \"merge6.csv\")\n",
    "df1=pd.read_csv('merge1.csv')\n",
    "df2=pd.read_csv('merge2.csv')\n",
    "df3=pd.read_csv('merge3.csv')\n",
    "df4=pd.read_csv('merge4.csv')\n",
    "df5=pd.read_csv('merge5.csv')\n",
    "df6=pd.read_csv('merge6.csv')\n",
    "df_merged   = pd.merge(df1,df2,how='outer',right_on='country_name',left_on='country_name')\n",
    "df_merged.to_csv( \"merge11.csv\")\n",
    "df_merged   = pd.merge(df3,df4,how='outer',right_on='country_name',left_on='country_name')\n",
    "df_merged.to_csv( \"merge12.csv\")\n",
    "df_merged   = pd.merge(df5,df6,how='outer',right_on='country_name',left_on='country_name')\n",
    "df_merged.to_csv( \"merge13.csv\")\n",
    "df1=pd.read_csv('merge11.csv')\n",
    "df2=pd.read_csv('merge12.csv')\n",
    "df3=pd.read_csv('merge13.csv')\n",
    "df_merged   = pd.merge(df1,df2,how='outer',right_on='country_name',left_on='country_name')\n",
    "df_merged.to_csv( \"merge111.csv\")\n",
    "df4=pd.read_csv('merge111.csv')\n",
    "df_merged   = pd.merge(df3,df4,how='outer',right_on='country_name',left_on='country_name')\n",
    "df_merged.to_csv( \"merge112.csv\")\n",
    "df=pd.read_csv('merge112.csv')\n",
    "df.head()"
   ]
  },
  {
   "cell_type": "code",
   "execution_count": null,
   "id": "e910e720",
   "metadata": {},
   "outputs": [],
   "source": [
    "##Cleaning Merge table "
   ]
  },
  {
   "cell_type": "code",
   "execution_count": 41,
   "id": "75fda680",
   "metadata": {
    "execution": {
     "iopub.execute_input": "2022-07-29T09:08:34.293327Z",
     "iopub.status.busy": "2022-07-29T09:08:34.292912Z",
     "iopub.status.idle": "2022-07-29T09:08:34.323993Z",
     "shell.execute_reply": "2022-07-29T09:08:34.322669Z"
    },
    "papermill": {
     "duration": 0.066081,
     "end_time": "2022-07-29T09:08:34.326550",
     "exception": false,
     "start_time": "2022-07-29T09:08:34.260469",
     "status": "completed"
    },
    "slideshow": {
     "slide_type": "subslide"
    },
    "tags": []
   },
   "outputs": [
    {
     "data": {
      "text/html": [
       "<div>\n",
       "<style scoped>\n",
       "    .dataframe tbody tr th:only-of-type {\n",
       "        vertical-align: middle;\n",
       "    }\n",
       "\n",
       "    .dataframe tbody tr th {\n",
       "        vertical-align: top;\n",
       "    }\n",
       "\n",
       "    .dataframe thead th {\n",
       "        text-align: right;\n",
       "    }\n",
       "</style>\n",
       "<table border=\"1\" class=\"dataframe\">\n",
       "  <thead>\n",
       "    <tr style=\"text-align: right;\">\n",
       "      <th></th>\n",
       "      <th>country_name</th>\n",
       "      <th>Deaths - Unsafe water source</th>\n",
       "      <th>Human Development Index - undp_hdi</th>\n",
       "      <th>Total water withdrawal per capita</th>\n",
       "      <th>Health expenditure, total (% of GDP)</th>\n",
       "      <th>Renewables (% electricity)</th>\n",
       "      <th>Gender wage gap (%)</th>\n",
       "      <th>Population</th>\n",
       "      <th>population below poverty line</th>\n",
       "      <th>Arable land (hectares per person)</th>\n",
       "      <th>Year</th>\n",
       "      <th>Urban population (% of total population)</th>\n",
       "      <th>Arable land (% of land area)</th>\n",
       "      <th>undernourishment_prevalence</th>\n",
       "      <th>country_code</th>\n",
       "      <th>Government Expenditure (IMF based on Mauro et al. (2015))</th>\n",
       "      <th>GDP per capita, PPP (constant 2017 international $)</th>\n",
       "    </tr>\n",
       "  </thead>\n",
       "  <tbody>\n",
       "    <tr>\n",
       "      <th>0</th>\n",
       "      <td>Afghanistan</td>\n",
       "      <td>9.993769</td>\n",
       "      <td>0.447722</td>\n",
       "      <td>943.80</td>\n",
       "      <td>8.182274</td>\n",
       "      <td>86.624204</td>\n",
       "      <td>0.0</td>\n",
       "      <td>38928341.0</td>\n",
       "      <td>NaN</td>\n",
       "      <td>0.212116</td>\n",
       "      <td>2017.0</td>\n",
       "      <td>25.250</td>\n",
       "      <td>11.792727</td>\n",
       "      <td>28.9</td>\n",
       "      <td>AFG</td>\n",
       "      <td>21.991904</td>\n",
       "      <td>1460.825751</td>\n",
       "    </tr>\n",
       "    <tr>\n",
       "      <th>1</th>\n",
       "      <td>Albania</td>\n",
       "      <td>0.150238</td>\n",
       "      <td>0.722489</td>\n",
       "      <td>588.50</td>\n",
       "      <td>5.883105</td>\n",
       "      <td>100.000000</td>\n",
       "      <td>0.0</td>\n",
       "      <td>2877800.0</td>\n",
       "      <td>1.266547</td>\n",
       "      <td>0.211209</td>\n",
       "      <td>2017.0</td>\n",
       "      <td>59.383</td>\n",
       "      <td>22.149635</td>\n",
       "      <td>3.9</td>\n",
       "      <td>ALB</td>\n",
       "      <td>31.922866</td>\n",
       "      <td>9150.518747</td>\n",
       "    </tr>\n",
       "    <tr>\n",
       "      <th>2</th>\n",
       "      <td>Algeria</td>\n",
       "      <td>0.549123</td>\n",
       "      <td>0.725421</td>\n",
       "      <td>178.90</td>\n",
       "      <td>7.207178</td>\n",
       "      <td>0.888784</td>\n",
       "      <td>0.0</td>\n",
       "      <td>43851043.0</td>\n",
       "      <td>0.329316</td>\n",
       "      <td>0.180501</td>\n",
       "      <td>2017.0</td>\n",
       "      <td>72.052</td>\n",
       "      <td>3.136700</td>\n",
       "      <td>3.1</td>\n",
       "      <td>DZA</td>\n",
       "      <td>34.155843</td>\n",
       "      <td>10717.784464</td>\n",
       "    </tr>\n",
       "    <tr>\n",
       "      <th>8</th>\n",
       "      <td>Andorra</td>\n",
       "      <td>0.016820</td>\n",
       "      <td>0.822628</td>\n",
       "      <td>NaN</td>\n",
       "      <td>8.127136</td>\n",
       "      <td>NaN</td>\n",
       "      <td>0.0</td>\n",
       "      <td>77265.0</td>\n",
       "      <td>NaN</td>\n",
       "      <td>0.010650</td>\n",
       "      <td>2017.0</td>\n",
       "      <td>88.150</td>\n",
       "      <td>1.744681</td>\n",
       "      <td>NaN</td>\n",
       "      <td>NaN</td>\n",
       "      <td>NaN</td>\n",
       "      <td>NaN</td>\n",
       "    </tr>\n",
       "    <tr>\n",
       "      <th>9</th>\n",
       "      <td>Angola</td>\n",
       "      <td>83.063705</td>\n",
       "      <td>0.508625</td>\n",
       "      <td>39.76</td>\n",
       "      <td>3.306983</td>\n",
       "      <td>73.004597</td>\n",
       "      <td>0.0</td>\n",
       "      <td>32866267.0</td>\n",
       "      <td>45.069260</td>\n",
       "      <td>0.164337</td>\n",
       "      <td>2017.0</td>\n",
       "      <td>64.839</td>\n",
       "      <td>3.930376</td>\n",
       "      <td>19.4</td>\n",
       "      <td>AGO</td>\n",
       "      <td>42.324461</td>\n",
       "      <td>7341.865199</td>\n",
       "    </tr>\n",
       "  </tbody>\n",
       "</table>\n",
       "</div>"
      ],
      "text/plain": [
       "  country_name  Deaths - Unsafe water source  \\\n",
       "0  Afghanistan                      9.993769   \n",
       "1      Albania                      0.150238   \n",
       "2      Algeria                      0.549123   \n",
       "8      Andorra                      0.016820   \n",
       "9       Angola                     83.063705   \n",
       "\n",
       "   Human Development Index - undp_hdi  Total water withdrawal per capita  \\\n",
       "0                            0.447722                             943.80   \n",
       "1                            0.722489                             588.50   \n",
       "2                            0.725421                             178.90   \n",
       "8                            0.822628                                NaN   \n",
       "9                            0.508625                              39.76   \n",
       "\n",
       "   Health expenditure, total (% of GDP)  Renewables (% electricity)  \\\n",
       "0                              8.182274                   86.624204   \n",
       "1                              5.883105                  100.000000   \n",
       "2                              7.207178                    0.888784   \n",
       "8                              8.127136                         NaN   \n",
       "9                              3.306983                   73.004597   \n",
       "\n",
       "   Gender wage gap (%)  Population  population below poverty line  \\\n",
       "0                  0.0  38928341.0                            NaN   \n",
       "1                  0.0   2877800.0                       1.266547   \n",
       "2                  0.0  43851043.0                       0.329316   \n",
       "8                  0.0     77265.0                            NaN   \n",
       "9                  0.0  32866267.0                      45.069260   \n",
       "\n",
       "   Arable land (hectares per person)    Year  \\\n",
       "0                           0.212116  2017.0   \n",
       "1                           0.211209  2017.0   \n",
       "2                           0.180501  2017.0   \n",
       "8                           0.010650  2017.0   \n",
       "9                           0.164337  2017.0   \n",
       "\n",
       "   Urban population (% of total population)  Arable land (% of land area)  \\\n",
       "0                                    25.250                     11.792727   \n",
       "1                                    59.383                     22.149635   \n",
       "2                                    72.052                      3.136700   \n",
       "8                                    88.150                      1.744681   \n",
       "9                                    64.839                      3.930376   \n",
       "\n",
       "  undernourishment_prevalence country_code  \\\n",
       "0                        28.9          AFG   \n",
       "1                         3.9          ALB   \n",
       "2                         3.1          DZA   \n",
       "8                         NaN          NaN   \n",
       "9                        19.4          AGO   \n",
       "\n",
       "   Government Expenditure (IMF based on Mauro et al. (2015))  \\\n",
       "0                                          21.991904           \n",
       "1                                          31.922866           \n",
       "2                                          34.155843           \n",
       "8                                                NaN           \n",
       "9                                          42.324461           \n",
       "\n",
       "   GDP per capita, PPP (constant 2017 international $)  \n",
       "0                                        1460.825751    \n",
       "1                                        9150.518747    \n",
       "2                                       10717.784464    \n",
       "8                                                NaN    \n",
       "9                                        7341.865199    "
      ]
     },
     "execution_count": 41,
     "metadata": {},
     "output_type": "execute_result"
    }
   ],
   "source": [
    "df=df.drop(['Unnamed: 0_x','Unnamed: 0_x_x','Unnamed: 0_y_x','Unnamed: 0_y_y','Unnamed: 0_y_y'\n",
    "            ,'Unnamed: 0_y_y.1','Unnamed: 0','Unnamed: 0_y','Unnamed: 0_x_y','Unnamed: 0_y_x.1'\n",
    "            ,'Unnamed: 0_x_x.1','Unnamed: 0_x_y.1','Population (historical estimates)'],axis=1)\n",
    "df = df[df['Human Development Index - undp_hdi'].notna()]\n",
    "df.head()"
   ]
  },
  {
   "cell_type": "code",
   "execution_count": 42,
   "id": "184f6b64",
   "metadata": {
    "execution": {
     "iopub.execute_input": "2022-07-29T09:08:34.392470Z",
     "iopub.status.busy": "2022-07-29T09:08:34.391453Z",
     "iopub.status.idle": "2022-07-29T09:08:34.402611Z",
     "shell.execute_reply": "2022-07-29T09:08:34.401273Z"
    },
    "papermill": {
     "duration": 0.046628,
     "end_time": "2022-07-29T09:08:34.405143",
     "exception": false,
     "start_time": "2022-07-29T09:08:34.358515",
     "status": "completed"
    },
    "slideshow": {
     "slide_type": "subslide"
    },
    "tags": []
   },
   "outputs": [
    {
     "data": {
      "text/plain": [
       "country_name                                                  0\n",
       "Deaths - Unsafe water source                                  3\n",
       "Human Development Index - undp_hdi                            0\n",
       "Total water withdrawal per capita                            55\n",
       "Health expenditure, total (% of GDP)                          1\n",
       "Renewables (% electricity)                                    9\n",
       "Gender wage gap (%)                                           0\n",
       "Population                                                    0\n",
       "population below poverty line                                25\n",
       "Arable land (hectares per person)                             0\n",
       "Year                                                          1\n",
       "Urban population (% of total population)                      1\n",
       "Arable land (% of land area)                                  0\n",
       "undernourishment_prevalence                                  36\n",
       "country_code                                                 28\n",
       "Government Expenditure (IMF based on Mauro et al. (2015))    28\n",
       "GDP per capita, PPP (constant 2017 international $)          28\n",
       "dtype: int64"
      ]
     },
     "execution_count": 42,
     "metadata": {},
     "output_type": "execute_result"
    }
   ],
   "source": [
    "df.isnull().sum()"
   ]
  },
  {
   "cell_type": "code",
   "execution_count": 43,
   "id": "32a0f6a7",
   "metadata": {
    "execution": {
     "iopub.execute_input": "2022-07-29T09:08:34.471560Z",
     "iopub.status.busy": "2022-07-29T09:08:34.471175Z",
     "iopub.status.idle": "2022-07-29T09:08:34.490669Z",
     "shell.execute_reply": "2022-07-29T09:08:34.489333Z"
    },
    "papermill": {
     "duration": 0.055189,
     "end_time": "2022-07-29T09:08:34.493035",
     "exception": false,
     "start_time": "2022-07-29T09:08:34.437846",
     "status": "completed"
    },
    "slideshow": {
     "slide_type": "subslide"
    },
    "tags": []
   },
   "outputs": [
    {
     "data": {
      "text/plain": [
       "country_name                                                 0\n",
       "Deaths - Unsafe water source                                 0\n",
       "Human Development Index - undp_hdi                           0\n",
       "Total water withdrawal per capita                            0\n",
       "Health expenditure, total (% of GDP)                         0\n",
       "Renewables (% electricity)                                   0\n",
       "Gender wage gap (%)                                          0\n",
       "Population                                                   0\n",
       "population below poverty line                                0\n",
       "Arable land (hectares per person)                            0\n",
       "Year                                                         0\n",
       "Urban population (% of total population)                     0\n",
       "Arable land (% of land area)                                 0\n",
       "undernourishment_prevalence                                  0\n",
       "country_code                                                 0\n",
       "Government Expenditure (IMF based on Mauro et al. (2015))    0\n",
       "GDP per capita, PPP (constant 2017 international $)          0\n",
       "dtype: int64"
      ]
     },
     "execution_count": 43,
     "metadata": {},
     "output_type": "execute_result"
    }
   ],
   "source": [
    "df['Total water withdrawal per capita'].fillna(df['Total water withdrawal per capita'].mode()[0],inplace=True)\n",
    "df['undernourishment_prevalence'].fillna(df['undernourishment_prevalence'].mode()[0],inplace=True)\n",
    "df = df[df['country_code'].notna()]\n",
    "df['population below poverty line'].fillna(df['population below poverty line'].mean(),inplace=True)\n",
    "df['Renewables (% electricity)'].fillna(df['Renewables (% electricity)'].mean(),inplace=True)\n",
    "df.isnull().sum()"
   ]
  },
  {
   "cell_type": "code",
   "execution_count": 44,
   "id": "9cf8dd0b",
   "metadata": {
    "execution": {
     "iopub.execute_input": "2022-07-29T09:08:34.560644Z",
     "iopub.status.busy": "2022-07-29T09:08:34.560247Z",
     "iopub.status.idle": "2022-07-29T09:08:34.574500Z",
     "shell.execute_reply": "2022-07-29T09:08:34.573204Z"
    },
    "papermill": {
     "duration": 0.051426,
     "end_time": "2022-07-29T09:08:34.577134",
     "exception": false,
     "start_time": "2022-07-29T09:08:34.525708",
     "status": "completed"
    },
    "slideshow": {
     "slide_type": "subslide"
    },
    "tags": []
   },
   "outputs": [],
   "source": [
    "df.reset_index(drop=True, inplace=True)\n",
    "df['undernourishment_prevalence']=pd.to_numeric(df['undernourishment_prevalence'],errors='coerce')\n",
    "df['undernourishment_prevalence'].fillna(df['undernourishment_prevalence'].mode()[0],inplace=True)\n",
    "df.to_csv('sustainable_devolopment_goals.csv')"
   ]
  },
  {
   "cell_type": "code",
   "execution_count": null,
   "id": "58457b11",
   "metadata": {},
   "outputs": [],
   "source": [
    "#EDA"
   ]
  },
  {
   "cell_type": "code",
   "execution_count": 45,
   "id": "569f7cd4",
   "metadata": {
    "execution": {
     "iopub.execute_input": "2022-07-29T09:08:34.712325Z",
     "iopub.status.busy": "2022-07-29T09:08:34.711888Z",
     "iopub.status.idle": "2022-07-29T09:08:34.747774Z",
     "shell.execute_reply": "2022-07-29T09:08:34.746638Z"
    },
    "papermill": {
     "duration": 0.074335,
     "end_time": "2022-07-29T09:08:34.750545",
     "exception": false,
     "start_time": "2022-07-29T09:08:34.676210",
     "status": "completed"
    },
    "slideshow": {
     "slide_type": "subslide"
    },
    "tags": []
   },
   "outputs": [
    {
     "data": {
      "text/html": [
       "<div>\n",
       "<style scoped>\n",
       "    .dataframe tbody tr th:only-of-type {\n",
       "        vertical-align: middle;\n",
       "    }\n",
       "\n",
       "    .dataframe tbody tr th {\n",
       "        vertical-align: top;\n",
       "    }\n",
       "\n",
       "    .dataframe thead th {\n",
       "        text-align: right;\n",
       "    }\n",
       "</style>\n",
       "<table border=\"1\" class=\"dataframe\">\n",
       "  <thead>\n",
       "    <tr style=\"text-align: right;\">\n",
       "      <th></th>\n",
       "      <th>Unnamed: 0</th>\n",
       "      <th>country_name</th>\n",
       "      <th>Arable land (hectares per person)</th>\n",
       "      <th>country_name.1</th>\n",
       "      <th>Deaths - Unsafe water source</th>\n",
       "      <th>country_name.2</th>\n",
       "      <th>Health expenditure, total (% of GDP)</th>\n",
       "      <th>country_name.3</th>\n",
       "      <th>Year</th>\n",
       "      <th>Urban population (% of total population)</th>\n",
       "      <th>...</th>\n",
       "      <th>country_name.8</th>\n",
       "      <th>country_code</th>\n",
       "      <th>Government Expenditure (IMF based on Mauro et al. (2015))</th>\n",
       "      <th>GDP per capita, PPP (constant 2017 international $)</th>\n",
       "      <th>country_name.9</th>\n",
       "      <th>population below poverty line</th>\n",
       "      <th>country_name.10</th>\n",
       "      <th>undernourishment_prevalence</th>\n",
       "      <th>country_name.11</th>\n",
       "      <th>Arable land (% of land area)</th>\n",
       "    </tr>\n",
       "  </thead>\n",
       "  <tbody>\n",
       "    <tr>\n",
       "      <th>0</th>\n",
       "      <td>0</td>\n",
       "      <td>Afghanistan</td>\n",
       "      <td>0.212116</td>\n",
       "      <td>Afghanistan</td>\n",
       "      <td>9.993769</td>\n",
       "      <td>Afghanistan</td>\n",
       "      <td>8.182274</td>\n",
       "      <td>Afghanistan</td>\n",
       "      <td>2017.0</td>\n",
       "      <td>25.250000</td>\n",
       "      <td>...</td>\n",
       "      <td>Afghanistan</td>\n",
       "      <td>AFG</td>\n",
       "      <td>21.991904</td>\n",
       "      <td>1460.825751</td>\n",
       "      <td>Albania</td>\n",
       "      <td>1.266547</td>\n",
       "      <td>Afghanistan</td>\n",
       "      <td>28.9</td>\n",
       "      <td>Afghanistan</td>\n",
       "      <td>11.792727</td>\n",
       "    </tr>\n",
       "    <tr>\n",
       "      <th>1</th>\n",
       "      <td>1</td>\n",
       "      <td>andSouthern</td>\n",
       "      <td>0.189571</td>\n",
       "      <td>Albania</td>\n",
       "      <td>0.150238</td>\n",
       "      <td>Albania</td>\n",
       "      <td>5.883105</td>\n",
       "      <td>andSouthern</td>\n",
       "      <td>2017.0</td>\n",
       "      <td>35.332373</td>\n",
       "      <td>...</td>\n",
       "      <td>Albania</td>\n",
       "      <td>ALB</td>\n",
       "      <td>31.922866</td>\n",
       "      <td>9150.518747</td>\n",
       "      <td>Algeria</td>\n",
       "      <td>0.329316</td>\n",
       "      <td>Africa</td>\n",
       "      <td>18.6</td>\n",
       "      <td>andSouthern</td>\n",
       "      <td>8.231181</td>\n",
       "    </tr>\n",
       "    <tr>\n",
       "      <th>2</th>\n",
       "      <td>2</td>\n",
       "      <td>andCentral</td>\n",
       "      <td>0.239588</td>\n",
       "      <td>Algeria</td>\n",
       "      <td>0.549123</td>\n",
       "      <td>Algeria</td>\n",
       "      <td>7.207178</td>\n",
       "      <td>andCentral</td>\n",
       "      <td>2017.0</td>\n",
       "      <td>46.019334</td>\n",
       "      <td>...</td>\n",
       "      <td>Algeria</td>\n",
       "      <td>DZA</td>\n",
       "      <td>34.155843</td>\n",
       "      <td>10717.784464</td>\n",
       "      <td>Angola</td>\n",
       "      <td>45.069260</td>\n",
       "      <td>Albania</td>\n",
       "      <td>3.9</td>\n",
       "      <td>andCentral</td>\n",
       "      <td>11.224018</td>\n",
       "    </tr>\n",
       "    <tr>\n",
       "      <th>3</th>\n",
       "      <td>3</td>\n",
       "      <td>Albania</td>\n",
       "      <td>0.211209</td>\n",
       "      <td>AmericanSamoa</td>\n",
       "      <td>2.465869</td>\n",
       "      <td>Andorra</td>\n",
       "      <td>8.127136</td>\n",
       "      <td>Albania</td>\n",
       "      <td>2017.0</td>\n",
       "      <td>59.383000</td>\n",
       "      <td>...</td>\n",
       "      <td>Angola</td>\n",
       "      <td>AGO</td>\n",
       "      <td>42.324461</td>\n",
       "      <td>7341.865199</td>\n",
       "      <td>Argentina(Urban)</td>\n",
       "      <td>0.928490</td>\n",
       "      <td>Algeria</td>\n",
       "      <td>3.1</td>\n",
       "      <td>Albania</td>\n",
       "      <td>22.149635</td>\n",
       "    </tr>\n",
       "    <tr>\n",
       "      <th>4</th>\n",
       "      <td>4</td>\n",
       "      <td>Algeria</td>\n",
       "      <td>0.180501</td>\n",
       "      <td>LatinAmerica</td>\n",
       "      <td>2.163197</td>\n",
       "      <td>Angola</td>\n",
       "      <td>3.306983</td>\n",
       "      <td>Algeria</td>\n",
       "      <td>2017.0</td>\n",
       "      <td>72.052000</td>\n",
       "      <td>...</td>\n",
       "      <td>Argentina</td>\n",
       "      <td>ARG</td>\n",
       "      <td>38.141860</td>\n",
       "      <td>22424.117729</td>\n",
       "      <td>Armenia</td>\n",
       "      <td>0.880793</td>\n",
       "      <td>Angola</td>\n",
       "      <td>19.4</td>\n",
       "      <td>Algeria</td>\n",
       "      <td>3.136700</td>\n",
       "    </tr>\n",
       "  </tbody>\n",
       "</table>\n",
       "<p>5 rows × 30 columns</p>\n",
       "</div>"
      ],
      "text/plain": [
       "   Unnamed: 0 country_name  Arable land (hectares per person) country_name.1  \\\n",
       "0           0  Afghanistan                           0.212116    Afghanistan   \n",
       "1           1  andSouthern                           0.189571        Albania   \n",
       "2           2   andCentral                           0.239588        Algeria   \n",
       "3           3      Albania                           0.211209  AmericanSamoa   \n",
       "4           4      Algeria                           0.180501   LatinAmerica   \n",
       "\n",
       "   Deaths - Unsafe water source country_name.2  \\\n",
       "0                      9.993769    Afghanistan   \n",
       "1                      0.150238        Albania   \n",
       "2                      0.549123        Algeria   \n",
       "3                      2.465869        Andorra   \n",
       "4                      2.163197         Angola   \n",
       "\n",
       "   Health expenditure, total (% of GDP) country_name.3    Year  \\\n",
       "0                              8.182274    Afghanistan  2017.0   \n",
       "1                              5.883105    andSouthern  2017.0   \n",
       "2                              7.207178     andCentral  2017.0   \n",
       "3                              8.127136        Albania  2017.0   \n",
       "4                              3.306983        Algeria  2017.0   \n",
       "\n",
       "   Urban population (% of total population)  ... country_name.8  country_code  \\\n",
       "0                                 25.250000  ...    Afghanistan           AFG   \n",
       "1                                 35.332373  ...        Albania           ALB   \n",
       "2                                 46.019334  ...        Algeria           DZA   \n",
       "3                                 59.383000  ...         Angola           AGO   \n",
       "4                                 72.052000  ...      Argentina           ARG   \n",
       "\n",
       "   Government Expenditure (IMF based on Mauro et al. (2015))  \\\n",
       "0                                          21.991904           \n",
       "1                                          31.922866           \n",
       "2                                          34.155843           \n",
       "3                                          42.324461           \n",
       "4                                          38.141860           \n",
       "\n",
       "  GDP per capita, PPP (constant 2017 international $)    country_name.9  \\\n",
       "0                                        1460.825751            Albania   \n",
       "1                                        9150.518747            Algeria   \n",
       "2                                       10717.784464             Angola   \n",
       "3                                        7341.865199   Argentina(Urban)   \n",
       "4                                       22424.117729            Armenia   \n",
       "\n",
       "   population below poverty line country_name.10  undernourishment_prevalence  \\\n",
       "0                       1.266547     Afghanistan                         28.9   \n",
       "1                       0.329316          Africa                         18.6   \n",
       "2                      45.069260         Albania                          3.9   \n",
       "3                       0.928490         Algeria                          3.1   \n",
       "4                       0.880793          Angola                         19.4   \n",
       "\n",
       "  country_name.11  Arable land (% of land area)  \n",
       "0     Afghanistan                     11.792727  \n",
       "1     andSouthern                      8.231181  \n",
       "2      andCentral                     11.224018  \n",
       "3         Albania                     22.149635  \n",
       "4         Algeria                      3.136700  \n",
       "\n",
       "[5 rows x 30 columns]"
      ]
     },
     "execution_count": 45,
     "metadata": {},
     "output_type": "execute_result"
    }
   ],
   "source": [
    "df=pd.read_csv('./sustainable_devlopment_goals.csv')\n",
    "df.head()"
   ]
  },
  {
   "cell_type": "code",
   "execution_count": 46,
   "id": "299e41e3",
   "metadata": {
    "execution": {
     "iopub.execute_input": "2022-07-29T09:08:34.820717Z",
     "iopub.status.busy": "2022-07-29T09:08:34.820311Z",
     "iopub.status.idle": "2022-07-29T09:08:34.830856Z",
     "shell.execute_reply": "2022-07-29T09:08:34.829953Z"
    },
    "papermill": {
     "duration": 0.047452,
     "end_time": "2022-07-29T09:08:34.832959",
     "exception": false,
     "start_time": "2022-07-29T09:08:34.785507",
     "status": "completed"
    },
    "slideshow": {
     "slide_type": "subslide"
    },
    "tags": []
   },
   "outputs": [
    {
     "data": {
      "text/plain": [
       "Unnamed: 0                                                     0\n",
       "country_name                                                  36\n",
       "Arable land (hectares per person)                             36\n",
       "country_name.1                                                58\n",
       "Deaths - Unsafe water source                                  58\n",
       "country_name.2                                                53\n",
       "Health expenditure, total (% of GDP)                          53\n",
       "country_name.3                                                27\n",
       "Year                                                          27\n",
       "Urban population (% of total population)                      27\n",
       "country_name.4                                                 0\n",
       "Gender wage gap (%)                                            0\n",
       "Population                                                     0\n",
       "country_name.5                                               108\n",
       "Human Development Index - undp_hdi                           108\n",
       "Population (historical estimates)                            108\n",
       "country_name.6                                                57\n",
       "Renewables (% electricity)                                    57\n",
       "country_name.7                                               157\n",
       "Total water withdrawal per capita                            157\n",
       "country_name.8                                               130\n",
       "country_code                                                 130\n",
       "Government Expenditure (IMF based on Mauro et al. (2015))    130\n",
       "GDP per capita, PPP (constant 2017 international $)          130\n",
       "country_name.9                                               108\n",
       "population below poverty line                                108\n",
       "country_name.10                                              101\n",
       "undernourishment_prevalence                                  101\n",
       "country_name.11                                               36\n",
       "Arable land (% of land area)                                  36\n",
       "dtype: int64"
      ]
     },
     "execution_count": 46,
     "metadata": {},
     "output_type": "execute_result"
    }
   ],
   "source": [
    "df.isnull().sum()"
   ]
  },
  {
   "cell_type": "code",
   "execution_count": 47,
   "id": "d9916d06",
   "metadata": {
    "execution": {
     "iopub.execute_input": "2022-07-29T09:08:34.901327Z",
     "iopub.status.busy": "2022-07-29T09:08:34.900908Z",
     "iopub.status.idle": "2022-07-29T09:08:34.918841Z",
     "shell.execute_reply": "2022-07-29T09:08:34.917136Z"
    },
    "papermill": {
     "duration": 0.054608,
     "end_time": "2022-07-29T09:08:34.921306",
     "exception": false,
     "start_time": "2022-07-29T09:08:34.866698",
     "status": "completed"
    },
    "slideshow": {
     "slide_type": "subslide"
    },
    "tags": []
   },
   "outputs": [
    {
     "name": "stdout",
     "output_type": "stream",
     "text": [
      "<class 'pandas.core.frame.DataFrame'>\n",
      "RangeIndex: 289 entries, 0 to 288\n",
      "Data columns (total 30 columns):\n",
      " #   Column                                                     Non-Null Count  Dtype  \n",
      "---  ------                                                     --------------  -----  \n",
      " 0   Unnamed: 0                                                 289 non-null    int64  \n",
      " 1   country_name                                               253 non-null    object \n",
      " 2   Arable land (hectares per person)                          253 non-null    float64\n",
      " 3   country_name.1                                             231 non-null    object \n",
      " 4   Deaths - Unsafe water source                               231 non-null    float64\n",
      " 5   country_name.2                                             236 non-null    object \n",
      " 6   Health expenditure, total (% of GDP)                       236 non-null    float64\n",
      " 7   country_name.3                                             262 non-null    object \n",
      " 8   Year                                                       262 non-null    float64\n",
      " 9   Urban population (% of total population)                   262 non-null    float64\n",
      " 10  country_name.4                                             289 non-null    object \n",
      " 11  Gender wage gap (%)                                        289 non-null    float64\n",
      " 12  Population                                                 289 non-null    float64\n",
      " 13  country_name.5                                             181 non-null    object \n",
      " 14  Human Development Index - undp_hdi                         181 non-null    float64\n",
      " 15  Population (historical estimates)                          181 non-null    float64\n",
      " 16  country_name.6                                             232 non-null    object \n",
      " 17  Renewables (% electricity)                                 232 non-null    float64\n",
      " 18  country_name.7                                             132 non-null    object \n",
      " 19  Total water withdrawal per capita                          132 non-null    float64\n",
      " 20  country_name.8                                             159 non-null    object \n",
      " 21  country_code                                               159 non-null    object \n",
      " 22  Government Expenditure (IMF based on Mauro et al. (2015))  159 non-null    float64\n",
      " 23  GDP per capita, PPP (constant 2017 international $)        159 non-null    float64\n",
      " 24  country_name.9                                             181 non-null    object \n",
      " 25  population below poverty line                              181 non-null    float64\n",
      " 26  country_name.10                                            188 non-null    object \n",
      " 27  undernourishment_prevalence                                188 non-null    object \n",
      " 28  country_name.11                                            253 non-null    object \n",
      " 29  Arable land (% of land area)                               253 non-null    float64\n",
      "dtypes: float64(15), int64(1), object(14)\n",
      "memory usage: 67.9+ KB\n"
     ]
    }
   ],
   "source": [
    "df.info()"
   ]
  },
  {
   "cell_type": "code",
   "execution_count": null,
   "id": "c207f127",
   "metadata": {},
   "outputs": [],
   "source": [
    "##Analysis between indicators."
   ]
  },
  {
   "cell_type": "code",
   "execution_count": 48,
   "id": "f711d3da",
   "metadata": {
    "execution": {
     "iopub.execute_input": "2022-07-29T09:08:35.126678Z",
     "iopub.status.busy": "2022-07-29T09:08:35.126261Z",
     "iopub.status.idle": "2022-07-29T09:08:35.378060Z",
     "shell.execute_reply": "2022-07-29T09:08:35.376729Z"
    },
    "papermill": {
     "duration": 0.290005,
     "end_time": "2022-07-29T09:08:35.380997",
     "exception": false,
     "start_time": "2022-07-29T09:08:35.090992",
     "status": "completed"
    },
    "scrolled": true,
    "slideshow": {
     "slide_type": "fragment"
    },
    "tags": []
   },
   "outputs": [
    {
     "data": {
      "text/plain": [
       "<AxesSubplot:xlabel='Human Development Index - undp_hdi', ylabel='Density'>"
      ]
     },
     "execution_count": 48,
     "metadata": {},
     "output_type": "execute_result"
    },
    {
     "data": {
      "image/png": "[encoded data removed]",
      "text/plain": [
       "<Figure size 432x288 with 1 Axes>"
      ]
     },
     "metadata": {
      "needs_background": "light"
     },
     "output_type": "display_data"
    }
   ],
   "source": [
    "sns.distplot(df['Human Development Index - undp_hdi'],kde_kws={\"color\": \"red\"})"
   ]
  },
  {
   "cell_type": "code",
   "execution_count": 49,
   "id": "56197cd1",
   "metadata": {
    "execution": {
     "iopub.execute_input": "2022-07-29T09:08:35.520589Z",
     "iopub.status.busy": "2022-07-29T09:08:35.520153Z",
     "iopub.status.idle": "2022-07-29T09:08:35.797731Z",
     "shell.execute_reply": "2022-07-29T09:08:35.796614Z"
    },
    "papermill": {
     "duration": 0.316242,
     "end_time": "2022-07-29T09:08:35.800348",
     "exception": false,
     "start_time": "2022-07-29T09:08:35.484106",
     "status": "completed"
    },
    "slideshow": {
     "slide_type": "fragment"
    },
    "tags": []
   },
   "outputs": [
    {
     "data": {
      "text/plain": [
       "<seaborn.axisgrid.FacetGrid at 0x7fc6fceb0450>"
      ]
     },
     "execution_count": 49,
     "metadata": {},
     "output_type": "execute_result"
    },
    {
     "data": {
      "image/png": "[encoded data removed]",
      "text/plain": [
       "<Figure size 360x360 with 1 Axes>"
      ]
     },
     "metadata": {
      "needs_background": "light"
     },
     "output_type": "display_data"
    }
   ],
   "source": [
    "sns.relplot(x='Human Development Index - undp_hdi', y='Renewables (% electricity)',legend=False,hue='country_name', size='Population', sizes=(10, 250), data=df)"
   ]
  },
  {
   "cell_type": "markdown",
   "id": "fdd58e4a",
   "metadata": {
    "papermill": {
     "duration": 0.033633,
     "end_time": "2022-07-29T09:08:35.868124",
     "exception": false,
     "start_time": "2022-07-29T09:08:35.834491",
     "status": "completed"
    },
    "slideshow": {
     "slide_type": "subslide"
    },
    "tags": []
   },
   "source": [
    "but may be it related(renewables) to the population below poverty line"
   ]
  },
  {
   "cell_type": "code",
   "execution_count": 50,
   "id": "f28fdf15",
   "metadata": {
    "execution": {
     "iopub.execute_input": "2022-07-29T09:08:35.937878Z",
     "iopub.status.busy": "2022-07-29T09:08:35.937198Z",
     "iopub.status.idle": "2022-07-29T09:08:36.231024Z",
     "shell.execute_reply": "2022-07-29T09:08:36.229652Z"
    },
    "papermill": {
     "duration": 0.331772,
     "end_time": "2022-07-29T09:08:36.233617",
     "exception": false,
     "start_time": "2022-07-29T09:08:35.901845",
     "status": "completed"
    },
    "slideshow": {
     "slide_type": "fragment"
    },
    "tags": []
   },
   "outputs": [
    {
     "data": {
      "text/plain": [
       "<seaborn.axisgrid.FacetGrid at 0x7fc6fcce6c10>"
      ]
     },
     "execution_count": 50,
     "metadata": {},
     "output_type": "execute_result"
    },
    {
     "data": {
      "image/png": "[encoded data removed]",
      "text/plain": [
       "<Figure size 360x360 with 1 Axes>"
      ]
     },
     "metadata": {
      "needs_background": "light"
     },
     "output_type": "display_data"
    }
   ],
   "source": [
    "sns.relplot(y='population below poverty line', x='Renewables (% electricity)',legend=False,hue='country_name', size='Population', sizes=(10, 250), data=df)"
   ]
  },
  {
   "cell_type": "code",
   "execution_count": 51,
   "id": "1ca82b5e",
   "metadata": {
    "execution": {
     "iopub.execute_input": "2022-07-29T09:08:36.376358Z",
     "iopub.status.busy": "2022-07-29T09:08:36.375612Z",
     "iopub.status.idle": "2022-07-29T09:08:36.710822Z",
     "shell.execute_reply": "2022-07-29T09:08:36.709462Z"
    },
    "papermill": {
     "duration": 0.374609,
     "end_time": "2022-07-29T09:08:36.713862",
     "exception": false,
     "start_time": "2022-07-29T09:08:36.339253",
     "status": "completed"
    },
    "slideshow": {
     "slide_type": "fragment"
    },
    "tags": []
   },
   "outputs": [
    {
     "data": {
      "text/plain": [
       "<AxesSubplot:xlabel='Arable land (hectares per person)', ylabel='population below poverty line'>"
      ]
     },
     "execution_count": 51,
     "metadata": {},
     "output_type": "execute_result"
    },
    {
     "data": {
      "image/png": "[encoded data removed]",
      "text/plain": [
       "<Figure size 432x288 with 1 Axes>"
      ]
     },
     "metadata": {
      "needs_background": "light"
     },
     "output_type": "display_data"
    }
   ],
   "source": [
    "sns.regplot(x='Arable land (hectares per person)',y='population below poverty line',data=df,scatter_kws={\"color\": \"blue\"}, line_kws={\"color\": \"red\"})"
   ]
  },
  {
   "cell_type": "code",
   "execution_count": 52,
   "id": "f8ed4bed",
   "metadata": {
    "execution": {
     "iopub.execute_input": "2022-07-29T09:08:36.885553Z",
     "iopub.status.busy": "2022-07-29T09:08:36.885158Z",
     "iopub.status.idle": "2022-07-29T09:08:37.084104Z",
     "shell.execute_reply": "2022-07-29T09:08:37.082717Z"
    },
    "papermill": {
     "duration": 0.240866,
     "end_time": "2022-07-29T09:08:37.086973",
     "exception": false,
     "start_time": "2022-07-29T09:08:36.846107",
     "status": "completed"
    },
    "scrolled": true,
    "slideshow": {
     "slide_type": "fragment"
    },
    "tags": []
   },
   "outputs": [
    {
     "data": {
      "text/plain": [
       "<AxesSubplot:xlabel='population below poverty line', ylabel='Count'>"
      ]
     },
     "execution_count": 52,
     "metadata": {},
     "output_type": "execute_result"
    },
    {
     "data": {
      "image/png": "[encoded data removed]",
      "text/plain": [
       "<Figure size 432x288 with 1 Axes>"
      ]
     },
     "metadata": {
      "needs_background": "light"
     },
     "output_type": "display_data"
    }
   ],
   "source": [
    "sns.histplot(df['population below poverty line'],kde_kws={\"color\": \"red\"})"
   ]
  },
  {
   "cell_type": "code",
   "execution_count": 53,
   "id": "a41f87b2",
   "metadata": {
    "execution": {
     "iopub.execute_input": "2022-07-29T09:08:37.235224Z",
     "iopub.status.busy": "2022-07-29T09:08:37.234200Z",
     "iopub.status.idle": "2022-07-29T09:08:37.690026Z",
     "shell.execute_reply": "2022-07-29T09:08:37.688627Z"
    },
    "papermill": {
     "duration": 0.496014,
     "end_time": "2022-07-29T09:08:37.692523",
     "exception": false,
     "start_time": "2022-07-29T09:08:37.196509",
     "status": "completed"
    },
    "slideshow": {
     "slide_type": "fragment"
    },
    "tags": []
   },
   "outputs": [
    {
     "data": {
      "text/plain": [
       "<seaborn.axisgrid.JointGrid at 0x7fc6fcb2a110>"
      ]
     },
     "execution_count": 53,
     "metadata": {},
     "output_type": "execute_result"
    },
    {
     "data": {
      "image/png": "[encoded data removed]",
      "text/plain": [
       "<Figure size 432x432 with 3 Axes>"
      ]
     },
     "metadata": {
      "needs_background": "light"
     },
     "output_type": "display_data"
    }
   ],
   "source": [
    "sns.jointplot(df['Arable land (% of land area)'],df['Total water withdrawal per capita'])\n"
   ]
  },
  {
   "cell_type": "code",
   "execution_count": 54,
   "id": "1c40607f",
   "metadata": {
    "execution": {
     "iopub.execute_input": "2022-07-29T09:08:37.846383Z",
     "iopub.status.busy": "2022-07-29T09:08:37.845122Z",
     "iopub.status.idle": "2022-07-29T09:08:39.850926Z",
     "shell.execute_reply": "2022-07-29T09:08:39.849372Z"
    },
    "papermill": {
     "duration": 2.052352,
     "end_time": "2022-07-29T09:08:39.854004",
     "exception": false,
     "start_time": "2022-07-29T09:08:37.801652",
     "status": "completed"
    },
    "slideshow": {
     "slide_type": "fragment"
    },
    "tags": []
   },
   "outputs": [
    {
     "data": {
      "text/plain": [
       "<seaborn.axisgrid.PairGrid at 0x7fc6fc9afd90>"
      ]
     },
     "execution_count": 54,
     "metadata": {},
     "output_type": "execute_result"
    },
    {
     "data": {
      "image/png": "[encoded data removed]",
      "text/plain": [
       "<Figure size 864x864 with 12 Axes>"
      ]
     },
     "metadata": {
      "needs_background": "light"
     },
     "output_type": "display_data"
    }
   ],
   "source": [
    "g = sns.PairGrid(df[['Deaths - Unsafe water source','Urban population (% of total population)','Government Expenditure (IMF based on Mauro et al. (2015))']],size=4) \n",
    "g.map_upper(sns.regplot,line_kws={\"color\": \"red\"}) \n",
    "g.map_lower(sns.residplot) \n",
    "g.map_diag(plt.hist)"
   ]
  },
  {
   "cell_type": "code",
   "execution_count": 55,
   "id": "16f84d69",
   "metadata": {
    "execution": {
     "iopub.execute_input": "2022-07-29T09:08:39.937110Z",
     "iopub.status.busy": "2022-07-29T09:08:39.936681Z",
     "iopub.status.idle": "2022-07-29T09:08:40.328844Z",
     "shell.execute_reply": "2022-07-29T09:08:40.327534Z"
    },
    "papermill": {
     "duration": 0.435288,
     "end_time": "2022-07-29T09:08:40.331532",
     "exception": false,
     "start_time": "2022-07-29T09:08:39.896244",
     "status": "completed"
    },
    "slideshow": {
     "slide_type": "subslide"
    },
    "tags": []
   },
   "outputs": [
    {
     "data": {
      "image/png": "[encoded data removed]",
      "text/plain": [
       "<Figure size 720x360 with 2 Axes>"
      ]
     },
     "metadata": {
      "needs_background": "light"
     },
     "output_type": "display_data"
    }
   ],
   "source": [
    "g = sns.pairplot(df, \n",
    "                 x_vars=['GDP per capita, PPP (constant 2017 international $)','Health expenditure, total (% of GDP)'],\n",
    "                 y_vars=['Total water withdrawal per capita'],size=5)"
   ]
  },
  {
   "cell_type": "code",
   "execution_count": 56,
   "id": "f4bba9b7",
   "metadata": {
    "execution": {
     "iopub.execute_input": "2022-07-29T09:08:40.412564Z",
     "iopub.status.busy": "2022-07-29T09:08:40.411191Z",
     "iopub.status.idle": "2022-07-29T09:08:41.004089Z",
     "shell.execute_reply": "2022-07-29T09:08:41.002203Z"
    },
    "papermill": {
     "duration": 0.636689,
     "end_time": "2022-07-29T09:08:41.007009",
     "exception": false,
     "start_time": "2022-07-29T09:08:40.370320",
     "status": "completed"
    },
    "scrolled": true,
    "slideshow": {
     "slide_type": "subslide"
    },
    "tags": []
   },
   "outputs": [
    {
     "data": {
      "text/plain": [
       "<seaborn.axisgrid.JointGrid at 0x7fc6fc36a490>"
      ]
     },
     "execution_count": 56,
     "metadata": {},
     "output_type": "execute_result"
    },
    {
     "data": {
      "image/png": "[encoded data removed]",
      "text/plain": [
       "<Figure size 576x576 with 3 Axes>"
      ]
     },
     "metadata": {
      "needs_background": "light"
     },
     "output_type": "display_data"
    }
   ],
   "source": [
    "sns.jointplot(x='Health expenditure, total (% of GDP)',y='GDP per capita, PPP (constant 2017 international $)',data=df,kind='kde',height=8,cmap='rocket')"
   ]
  },
  {
   "cell_type": "code",
   "execution_count": 59,
   "id": "e5546077",
   "metadata": {
    "collapsed": true,
    "execution": {
     "iopub.execute_input": "2022-07-29T09:08:41.864370Z",
     "iopub.status.busy": "2022-07-29T09:08:41.863366Z",
     "iopub.status.idle": "2022-07-29T09:08:42.484112Z",
     "shell.execute_reply": "2022-07-29T09:08:42.482955Z"
    },
    "papermill": {
     "duration": 0.667765,
     "end_time": "2022-07-29T09:08:42.486702",
     "exception": false,
     "start_time": "2022-07-29T09:08:41.818937",
     "status": "completed"
    },
    "slideshow": {
     "slide_type": "subslide"
    },
    "tags": []
   },
   "outputs": [
    {
     "data": {
      "text/plain": [
       "<seaborn.axisgrid.FacetGrid at 0x7fc6f052da50>"
      ]
     },
     "execution_count": 59,
     "metadata": {},
     "output_type": "execute_result"
    },
    {
     "data": {
      "image/png": "[encoded data removed]",
      "text/plain": [
       "<Figure size 420.375x360 with 1 Axes>"
      ]
     },
     "metadata": {
      "needs_background": "light"
     },
     "output_type": "display_data"
    }
   ],
   "source": [
    "sns.relplot(x='Human Development Index - undp_hdi', y='population below poverty line', size='Population', sizes=(10, 250), data=df)"
   ]
  }
 ],
 "metadata": {
  "kernelspec": {
   "display_name": "Python 3 (ipykernel)",
   "language": "python",
   "name": "python3"
  },
  "language_info": {
   "codemirror_mode": {
    "name": "ipython",
    "version": 3
   },
   "file_extension": ".py",
   "mimetype": "text/x-python",
   "name": "python",
   "nbconvert_exporter": "python",
   "pygments_lexer": "ipython3",
   "version": "3.9.12"
  },
  "papermill": {
   "default_parameters": {},
   "duration": 201.995209,
   "end_time": "2022-07-29T09:08:43.948009",
   "environment_variables": {},
   "exception": null,
   "input_path": "__notebook__.ipynb",
   "output_path": "__notebook__.ipynb",
   "parameters": {},
   "start_time": "2022-07-29T09:05:21.952800",
   "version": "2.3.4"
  }
 },
 "nbformat": 4,
 "nbformat_minor": 5
}
